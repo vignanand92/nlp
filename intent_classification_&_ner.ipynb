{
 "cells": [
  {
   "cell_type": "markdown",
   "metadata": {
    "id": "3NF310b-8QQX"
   },
   "source": [
    "# Introduction"
   ]
  },
  {
   "cell_type": "markdown",
   "metadata": {
    "id": "cLY5cWWA8Wdj"
   },
   "source": [
    "In this project I have compared 2 models for parallel execution of tasks - \"Intent Classifier and Named Entity Recognition\". In any chatbot, Intent Classifier assigns task labels to input texts and further functions in pipeline are applied specific to task labels. Named entities if recognised will help refine subtasks, because the computer will know if certain entities are mentioned by the user. The models I have used are -  \n",
    "\n",
    "1.   DistilBert \n",
    "2.   Bidirectional GRU with CRF head\n",
    "\n",
    "The models are trained on dataset specific to personal retail banking. So the scope of the chatbot built on top of these models should be as follows -\n",
    "\n",
    "1.   Perform payment transactions \n",
    "2.   Give brief transactions history based on filters like 'transactions in January'\n",
    "3.   Check balances in different types of accounts\n",
    "4.   Answer queries related to products\n",
    "\n",
    "NOTE: You can find a bit more explaination about 'Intent Classification and NER'  with examples in \"Model planing\" section.\n",
    "\n",
    "NER tags to be identified are all nouns (name start/end tags and product name start/end tags), the neural networks will pick up similar syntactic relations for the tags and if they have weak semantic learners the models will fail. So, even if we have only 4 tags to predict, still it is a difficult task because of the nature of tags.\n",
    "\n"
   ]
  },
  {
   "cell_type": "markdown",
   "metadata": {
    "id": "i3bo5Ve03mAj"
   },
   "source": [
    "# Imports"
   ]
  },
  {
   "cell_type": "code",
   "execution_count": null,
   "metadata": {},
   "outputs": [],
   "source": [
    "\n",
    "!pip install transformers\n",
    "from transformers import DistilBertTokenizerFast , TFDistilBertModel\n",
    "from sklearn.feature_extraction.text import CountVectorizer\n",
    "from sklearn.model_selection import train_test_split\n",
    "from sklearn.metrics import confusion_matrix\n",
    "import matplotlib.pyplot as plt\n",
    "import seaborn as sns\n",
    "import numpy as np\n",
    "import pandas as pd\n",
    "import pickle\n",
    "import tensorflow as tf\n",
    "from tensorflow.keras.layers import Dense , Conv1D , Softmax , Reshape , GRU , Embedding , Bidirectional\n",
    "from tensorflow_addons.text import crf_log_likelihood , viterbi_decode\n",
    "import time\n"
   ]
  },
  {
   "cell_type": "markdown",
   "metadata": {
    "id": "Maz6IJ194LOu"
   },
   "source": [
    "# Dataset"
   ]
  },
  {
   "cell_type": "markdown",
   "metadata": {
    "id": "SFfUW7VhJZVC"
   },
   "source": [
    "\n",
    "The dataset was generated based on examples in RASA github and some FAQs from retail banking websites. To illustrate, let's say we have below template of a \"data point\" - \n",
    "\n",
    "\n",
    "---\n",
    "\n",
    "\n",
    "sentence - \"Pay [ id ] with my [ product ] [ product ]\"\n",
    "\n",
    "labels - ['o' , 's-id' , 'o' , 'o' , 's-product' , 'e-product']\n",
    "\n",
    "intent - 'transaction'\n",
    "\n",
    "\n",
    "---\n",
    "\n",
    "\n",
    "We can fill in [ id ] with anything like John , milk , groceries , etc and [ product ] with banking products like credit card or debit card.\n",
    "\n",
    "Rasa repository - https://github.com/RasaHQ/financial-demo/blob/master/data/nlu/nlu.md\n"
   ]
  },
  {
   "cell_type": "code",
   "execution_count": null,
   "metadata": {
    "colab": {
     "base_uri": "https://localhost:8080/"
    },
    "id": "UE7x-2HFz8r9",
    "outputId": "9e8a1f50-9cf3-4544-911e-2d8ae71e1087"
   },
   "outputs": [
    {
     "data": {
      "text/html": [
       "<div>\n",
       "<style scoped>\n",
       "    .dataframe tbody tr th:only-of-type {\n",
       "        vertical-align: middle;\n",
       "    }\n",
       "\n",
       "    .dataframe tbody tr th {\n",
       "        vertical-align: top;\n",
       "    }\n",
       "\n",
       "    .dataframe thead th {\n",
       "        text-align: right;\n",
       "    }\n",
       "</style>\n",
       "<table border=\"1\" class=\"dataframe\">\n",
       "  <thead>\n",
       "    <tr style=\"text-align: right;\">\n",
       "      <th></th>\n",
       "      <th>sentences</th>\n",
       "      <th>labels</th>\n",
       "      <th>intents</th>\n",
       "    </tr>\n",
       "  </thead>\n",
       "  <tbody>\n",
       "    <tr>\n",
       "      <th>1155</th>\n",
       "      <td>[how, much, money, amount, mayur, thakur, sent...</td>\n",
       "      <td>[o, o, o, o, s-id, e-id, o, o, o, o, o]</td>\n",
       "      <td>analyze_transactions</td>\n",
       "    </tr>\n",
       "    <tr>\n",
       "      <th>539</th>\n",
       "      <td>[give, yash, patel, 589]</td>\n",
       "      <td>[o, s-id, e-id, o]</td>\n",
       "      <td>transactions_intent</td>\n",
       "    </tr>\n",
       "    <tr>\n",
       "      <th>1062</th>\n",
       "      <td>[how, much, money, was, credited, to, my, acco...</td>\n",
       "      <td>[o, o, o, o, o, o, o, o, o]</td>\n",
       "      <td>analyze_transactions</td>\n",
       "    </tr>\n",
       "    <tr>\n",
       "      <th>968</th>\n",
       "      <td>[please, send, 800, to, amit, yadav, using, si...</td>\n",
       "      <td>[o, o, o, o, s-id, e-id, o, s-product, e-product]</td>\n",
       "      <td>transactions_intent</td>\n",
       "    </tr>\n",
       "    <tr>\n",
       "      <th>1093</th>\n",
       "      <td>[how, much, money, amount, vani, sent, me, today]</td>\n",
       "      <td>[o, o, o, o, s-id, o, o, o]</td>\n",
       "      <td>analyze_transactions</td>\n",
       "    </tr>\n",
       "    <tr>\n",
       "      <th>1554</th>\n",
       "      <td>[how, much, money, amount, was, paid, to, yash...</td>\n",
       "      <td>[o, o, o, o, o, o, o, s-id, o, o, o]</td>\n",
       "      <td>analyze_transactions</td>\n",
       "    </tr>\n",
       "    <tr>\n",
       "      <th>1739</th>\n",
       "      <td>[how, much, money, amount, was, sent, to, repa...</td>\n",
       "      <td>[o, o, o, o, o, o, o, s-id, o]</td>\n",
       "      <td>analyze_transactions</td>\n",
       "    </tr>\n",
       "    <tr>\n",
       "      <th>1019</th>\n",
       "      <td>[pay, interest, due, using, platinum, card]</td>\n",
       "      <td>[o, o, o, o, s-product, e-product]</td>\n",
       "      <td>transactions_intent</td>\n",
       "    </tr>\n",
       "    <tr>\n",
       "      <th>286</th>\n",
       "      <td>[change, this, name, from, priyanka, patel, to]</td>\n",
       "      <td>[o, o, o, o, s-id, e-id, o]</td>\n",
       "      <td>bank_related</td>\n",
       "    </tr>\n",
       "    <tr>\n",
       "      <th>73</th>\n",
       "      <td>[add, divya, as, benefeciary]</td>\n",
       "      <td>[o, s-id, o, o]</td>\n",
       "      <td>bank_related</td>\n",
       "    </tr>\n",
       "    <tr>\n",
       "      <th>265</th>\n",
       "      <td>[change, beneficiary, name, from, riya, das]</td>\n",
       "      <td>[o, o, o, o, s-id, e-id]</td>\n",
       "      <td>bank_related</td>\n",
       "    </tr>\n",
       "    <tr>\n",
       "      <th>1695</th>\n",
       "      <td>[how, much, money, amount, was, paid, to, vive...</td>\n",
       "      <td>[o, o, o, o, o, o, o, s-id, e-id, o, o, o]</td>\n",
       "      <td>analyze_transactions</td>\n",
       "    </tr>\n",
       "    <tr>\n",
       "      <th>1041</th>\n",
       "      <td>[pay, education, loan, due, using, platinum, c...</td>\n",
       "      <td>[o, s-product, e-product, o, o, s-product, e-p...</td>\n",
       "      <td>transactions_intent</td>\n",
       "    </tr>\n",
       "    <tr>\n",
       "      <th>444</th>\n",
       "      <td>[get, a, new, personal, loan]</td>\n",
       "      <td>[o, o, o, s-product, e-product]</td>\n",
       "      <td>bank_related</td>\n",
       "    </tr>\n",
       "    <tr>\n",
       "      <th>686</th>\n",
       "      <td>[send, 7999, to, repair, using, gold, card]</td>\n",
       "      <td>[o, o, o, s-id, o, s-product, e-product]</td>\n",
       "      <td>transactions_intent</td>\n",
       "    </tr>\n",
       "  </tbody>\n",
       "</table>\n",
       "</div>"
      ],
      "text/plain": [
       "                                              sentences  ...               intents\n",
       "1155  [how, much, money, amount, mayur, thakur, sent...  ...  analyze_transactions\n",
       "539                            [give, yash, patel, 589]  ...   transactions_intent\n",
       "1062  [how, much, money, was, credited, to, my, acco...  ...  analyze_transactions\n",
       "968   [please, send, 800, to, amit, yadav, using, si...  ...   transactions_intent\n",
       "1093  [how, much, money, amount, vani, sent, me, today]  ...  analyze_transactions\n",
       "1554  [how, much, money, amount, was, paid, to, yash...  ...  analyze_transactions\n",
       "1739  [how, much, money, amount, was, sent, to, repa...  ...  analyze_transactions\n",
       "1019        [pay, interest, due, using, platinum, card]  ...   transactions_intent\n",
       "286     [change, this, name, from, priyanka, patel, to]  ...          bank_related\n",
       "73                        [add, divya, as, benefeciary]  ...          bank_related\n",
       "265        [change, beneficiary, name, from, riya, das]  ...          bank_related\n",
       "1695  [how, much, money, amount, was, paid, to, vive...  ...  analyze_transactions\n",
       "1041  [pay, education, loan, due, using, platinum, c...  ...   transactions_intent\n",
       "444                       [get, a, new, personal, loan]  ...          bank_related\n",
       "686         [send, 7999, to, repair, using, gold, card]  ...   transactions_intent\n",
       "\n",
       "[15 rows x 3 columns]"
      ]
     },
     "execution_count": 41,
     "metadata": {
      "tags": []
     },
     "output_type": "execute_result"
    }
   ],
   "source": [
    "\n",
    "with open('chatbot_data' , 'rb') as f:\n",
    "    dataset = pickle.load(f)\n",
    "dataset.iloc[np.random.randint(50 , 2000 , 15)]\n"
   ]
  },
  {
   "cell_type": "code",
   "execution_count": null,
   "metadata": {
    "colab": {
     "base_uri": "https://localhost:8080/"
    },
    "id": "Id9R9_Xz4lMd",
    "outputId": "ae583a9a-9a31-4c2f-c4a6-4b9f8c40d031"
   },
   "outputs": [
    {
     "name": "stdout",
     "output_type": "stream",
     "text": [
      "\n",
      "Count of out of context tags - 16641 \n",
      "\n"
     ]
    },
    {
     "data": {
      "image/png": "[encoded data removed]",
      "text/plain": [
       "<Figure size 432x288 with 1 Axes>"
      ]
     },
     "metadata": {
      "tags": []
     },
     "output_type": "display_data"
    }
   ],
   "source": [
    "\n",
    "eval_list = []\n",
    "for i in dataset['labels']:\n",
    "    eval_list += i\n",
    "\n",
    "unique_labels = ['o' , 's-id' , 'e-id' , 's-product' , 'e-product']\n",
    "counts = [] \n",
    "for i in unique_labels:\n",
    "    counts.append(eval_list.count(i))\n",
    "\n",
    "print('\\nCount of out of context tags -' , counts[0] , '\\n')\n",
    "\n",
    "plt.figure(facecolor='beige')\n",
    "plt.xlabel('NER tags')\n",
    "plt.ylabel('Counts')\n",
    "plt.bar( x=unique_labels[1:] , height=counts[1:] , zorder=2.5)\n",
    "plt.grid()\n",
    "plt.show()\n"
   ]
  },
  {
   "cell_type": "markdown",
   "metadata": {
    "id": "FG45U49kF0XN"
   },
   "source": [
    "Apart from imbalance due to label 'o' (out of context tags), the rest of the tags are moderately imbalanced. However, accuracy will shoot up if we are able to predict words which are not a noun. Thus, we will need to see the confusion matrix well.\n"
   ]
  },
  {
   "cell_type": "code",
   "execution_count": null,
   "metadata": {
    "colab": {
     "base_uri": "https://localhost:8080/"
    },
    "id": "_J6srqct6aw4",
    "outputId": "f5ddda10-8935-43cf-be50-8c4c7887332c"
   },
   "outputs": [
    {
     "data": {
      "image/png": "[encoded data removed]",
      "text/plain": [
       "<Figure size 576x288 with 1 Axes>"
      ]
     },
     "metadata": {
      "tags": []
     },
     "output_type": "display_data"
    }
   ],
   "source": [
    "\n",
    "counter = CountVectorizer()\n",
    "counts = counter.fit_transform(dataset['intents']).toarray().sum(axis=0)\n",
    "\n",
    "plt.figure(facecolor='beige' , figsize=(8,4))\n",
    "plt.xlabel('Intents')\n",
    "plt.ylabel('Counts')\n",
    "plt.bar( x=counter.get_feature_names() , height=counts , zorder=2.5)\n",
    "plt.grid()\n",
    "plt.xticks(rotation = 'vertical')\n",
    "plt.show()\n"
   ]
  },
  {
   "cell_type": "markdown",
   "metadata": {
    "id": "pcgXcxrGFgdN"
   },
   "source": [
    " \n",
    "We see that intents are even more imbalanced, ideally in such cases we would upsample or downsample data points, but because we generated data by replicating templates, upsampling may not be a good idea, still with such complex models we can expect models to perform just fine.\n"
   ]
  },
  {
   "cell_type": "markdown",
   "metadata": {
    "id": "wON7vc8a3r7R"
   },
   "source": [
    "# Tokenization "
   ]
  },
  {
   "cell_type": "code",
   "execution_count": null,
   "metadata": {
    "id": "zSvMbve6z7LX"
   },
   "outputs": [],
   "source": [
    "\n",
    "data = list(dataset['sentences'])\n",
    "labels = list(dataset['labels'])\n",
    "intents = list(dataset['intents'])\n",
    "\n",
    "train_text_og , test_text_og , train_labels , test_labels , train_intents , test_intents = train_test_split( data , labels , intents , stratify = intents)\n"
   ]
  },
  {
   "cell_type": "markdown",
   "metadata": {
    "id": "O9YdzVyMKOAq"
   },
   "source": [
    "**Tokenization** is to decontstruct sentence into words / subwords / characters, later to be converted to vector (numeric) representation (eg: 'walking' has subwords 'walk' , 'ing'). In this project we use pretrained **Wordpiece Tokenizer** in Huggingface library. Wordpiece tokenizer merges frequently occuring character tokens given that the probability of merged tokens is higher than the probability of indivisual token occurrence. You can see example of tokenized sentences below. \n",
    "\n",
    "Note: Vocabulary is relative to the documents the tokenizer has trained on\n"
   ]
  },
  {
   "cell_type": "code",
   "execution_count": null,
   "metadata": {
    "colab": {
     "base_uri": "https://localhost:8080/"
    },
    "id": "uMlUnwM-28Xj",
    "outputId": "850c2cfb-cddd-40e8-823c-2108fa2fca71"
   },
   "outputs": [
    {
     "name": "stderr",
     "output_type": "stream",
     "text": [
      "/usr/local/lib/python3.6/dist-packages/transformers/tokenization_utils_fast.py:353: FutureWarning: `is_pretokenized` is deprecated and will be removed in a future version, use `is_split_into_words` instead.\n",
      "  FutureWarning,\n"
     ]
    },
    {
     "name": "stdout",
     "output_type": "stream",
     "text": [
      "\n",
      " ==================================================  original  ================================================== \n",
      "\n",
      "Encoding(num_tokens=50, attributes=[ids, type_ids, tokens, offsets, attention_mask, special_tokens_mask, overflowing])\n",
      "\n",
      " ============================================  pretrained vocab ids  ============================================ \n",
      "\n",
      "[101, 2129, 2172, 2769, 3815, 2001, 2741, 2000, 15544, 3148, 12277, 3207, 1999, 2627, 1020, 2420, 102, 0, 0, 0, 0, 0, 0, 0, 0, 0, 0, 0, 0, 0, 0, 0, 0, 0, 0, 0, 0, 0, 0, 0, 0, 0, 0, 0, 0, 0, 0, 0, 0, 0]\n",
      "\n",
      " =============================================  deconstructed words  ============================================= \n",
      "\n",
      "['[CLS]', 'how', 'much', 'money', 'amount', 'was', 'sent', 'to', 'ri', '##ya', 'shin', '##de', 'in', 'past', '6', 'days', '[SEP]', '[PAD]', '[PAD]', '[PAD]', '[PAD]', '[PAD]', '[PAD]', '[PAD]', '[PAD]', '[PAD]', '[PAD]', '[PAD]', '[PAD]', '[PAD]', '[PAD]', '[PAD]', '[PAD]', '[PAD]', '[PAD]', '[PAD]', '[PAD]', '[PAD]', '[PAD]', '[PAD]', '[PAD]', '[PAD]', '[PAD]', '[PAD]', '[PAD]', '[PAD]', '[PAD]', '[PAD]', '[PAD]', '[PAD]']\n",
      "\n",
      " ===============================================  offset mapping  =============================================== \n",
      "\n",
      "[(0, 0), (0, 3), (0, 4), (0, 5), (0, 6), (0, 3), (0, 4), (0, 2), (0, 2), (2, 4), (0, 4), (4, 6), (0, 2), (0, 4), (0, 1), (0, 4), (0, 0), (0, 0), (0, 0), (0, 0), (0, 0), (0, 0), (0, 0), (0, 0), (0, 0), (0, 0), (0, 0), (0, 0), (0, 0), (0, 0), (0, 0), (0, 0), (0, 0), (0, 0), (0, 0), (0, 0), (0, 0), (0, 0), (0, 0), (0, 0), (0, 0), (0, 0), (0, 0), (0, 0), (0, 0), (0, 0), (0, 0), (0, 0), (0, 0), (0, 0)]\n",
      "\n",
      "\n"
     ]
    }
   ],
   "source": [
    "\n",
    "tokenizer = DistilBertTokenizerFast.from_pretrained('distilbert-base-uncased')\n",
    "train_text = tokenizer(train_text_og, is_pretokenized=True, return_offsets_mapping=True, padding='max_length', truncation=True, max_length=50)\n",
    "test_text = tokenizer(test_text_og, is_pretokenized=True, return_offsets_mapping=True, padding='max_length', truncation=True, max_length=50)\n",
    "\n",
    "# Below is what the hugging face pretrained tokenizer does out of vocabulary words\n",
    "print('\\n' , '='*50 , ' original ' , '='*50 , '\\n')\n",
    "print(train_text[54])\n",
    "print('\\n' , '='*44 , ' pretrained vocab ids ' , '='*44 , '\\n')\n",
    "print(train_text.input_ids[54])\n",
    "print('\\n' , '='*45 , ' deconstructed words ' , '='*45 , '\\n')\n",
    "print(tokenizer.convert_ids_to_tokens(train_text.input_ids[54]))\n",
    "print('\\n' , '='*47 , ' offset mapping ' , '='*47 , '\\n')\n",
    "print(train_text.offset_mapping[54])\n",
    "print('\\n')\n"
   ]
  },
  {
   "cell_type": "markdown",
   "metadata": {
    "id": "FQoSgOQgM26x"
   },
   "source": [
    "# Encode NER tags\n"
   ]
  },
  {
   "cell_type": "markdown",
   "metadata": {
    "id": "KakJSB-9NIrR"
   },
   "source": [
    "We are simply encoding NER tags to be picked up by loss function \"sparse categorical cross entropy\" in tensorflow library. "
   ]
  },
  {
   "cell_type": "code",
   "execution_count": null,
   "metadata": {
    "id": "SLBsfFDw3UIH"
   },
   "outputs": [],
   "source": [
    "\n",
    "def encode_tags(tags, encodings):\n",
    "    labels = [[tag2id[tag] for tag in doc] for doc in tags]\n",
    "    encoded_labels = []\n",
    "    t = 0\n",
    "    for doc_labels, doc_offset in zip(labels, encodings.offset_mapping):\n",
    "        # create an empty array of -100\n",
    "        doc_enc_labels = np.ones(len(doc_offset),dtype=int) * 5\n",
    "        arr_offset = np.array(doc_offset)\n",
    "        # set labels whose first offset position is 0 and the second is not 0\n",
    "        doc_enc_labels[(arr_offset[:,0] == 0) & (arr_offset[:,1] != 0)] = doc_labels\n",
    "        encoded_labels.append(doc_enc_labels.tolist())\n",
    "\n",
    "    return encoded_labels\n",
    "\n",
    "unique_labels = ['o' , 's-id' , 'e-id' , 's-product' , 'e-product'] \n",
    "tag2id = {'o' : 0 , 's-id' : 1 , 'e-id' : 2 , 's-product' : 3 , 'e-product' : 4}\n",
    "\n",
    "encoded_train_labels = np.array(encode_tags(train_labels, train_text))\n",
    "encoded_test_labels = np.array(encode_tags(test_labels, test_text))\n"
   ]
  },
  {
   "cell_type": "code",
   "execution_count": null,
   "metadata": {
    "id": "sqR_pBDlPJOq"
   },
   "outputs": [],
   "source": [
    "\n",
    "train_input_ids = np.array(train_text.input_ids)\n",
    "train_attention_mask = np.array(train_text.attention_mask)\n",
    "\n",
    "test_input_ids = np.array(test_text.input_ids)\n",
    "test_attention_mask = np.array(test_text.attention_mask)\n",
    "\n",
    "bag_of_words = CountVectorizer() \n",
    "train_intents = bag_of_words.fit_transform(train_intents).toarray()\n",
    "test_intents = bag_of_words.fit_transform(test_intents).toarray()\n"
   ]
  },
  {
   "cell_type": "code",
   "execution_count": null,
   "metadata": {
    "colab": {
     "base_uri": "https://localhost:8080/"
    },
    "id": "u4xzSsOALv4f",
    "outputId": "f9c7053a-7b63-41cf-d87e-31722187764f"
   },
   "outputs": [
    {
     "name": "stdout",
     "output_type": "stream",
     "text": [
      "(2239, 50)\n",
      "(2239, 50)\n",
      "(2239, 50)\n",
      "(2239, 8)\n",
      "(747, 50)\n",
      "(747, 50)\n",
      "(747, 50)\n",
      "(747, 8)\n"
     ]
    }
   ],
   "source": [
    "\n",
    "print(train_input_ids.shape)\n",
    "print(train_attention_mask.shape)\n",
    "print(encoded_train_labels.shape)\n",
    "print(train_intents.shape)\n",
    "\n",
    "print(test_input_ids.shape)\n",
    "print(test_attention_mask.shape)\n",
    "print(encoded_test_labels.shape)\n",
    "print(test_intents.shape)\n"
   ]
  },
  {
   "cell_type": "markdown",
   "metadata": {
    "id": "PE8eMLTuSqTN"
   },
   "source": [
    "# Model Planning"
   ]
  },
  {
   "cell_type": "markdown",
   "metadata": {
    "id": "puch9BAlSvol"
   },
   "source": [
    "A very simple chatbot which will only fetch data from a prestored questions answers table, will output answer to most similar question (from table) w.r.t. the user question. The similarity could be found by using aggregated word vectors in questions. You can find the below link to see how it is done -\n",
    "\n",
    "https://in.springboard.com/blog/nlp-project-automated-question-answering-model/\n",
    "\n",
    "In our project apart from just fetching answers, we also need the chatbot to perform tasks. So, is it not possible with the simple model? It is definitely possible, we simply replace the answers in prestored tables with functions to perform. So, what is the catch?\n",
    "\n",
    "\n",
    "\n",
    "A question could be asked many different ways, thus we may need to store different types of question for each answer in table. Similarities will be checked for each of teses questions. Moreover, in practice a chatbot is only economical if it replaces a wide range of queries. Also, the user experience is important which means we can't compromise on accuracy. All of these requirements make the table of question and answers / functions really huge. Comparing similarity scores for each question will be time consuming. \n"
   ]
  },
  {
   "cell_type": "markdown",
   "metadata": {
    "id": "oiIoPx7-er_N"
   },
   "source": [
    "**Intent classification**\n",
    "\n",
    "If questions in tables are classified by \"intent\" labels, we now will have binned questions in respective intents. Thus, checking similarity scores or performing other techniques to continue pipeline is now on a smaller chunk of the whole table. Some strategy deciding intents - \n",
    "\n",
    "[1] Leveraging the efficiency of a model to classify intents : \n",
    "\n",
    "Let's say we got below 2 inputs - \n",
    "\n",
    "- what is my account balance ?\n",
    "- what is my credit card balance ?\n",
    "\n",
    "We can assign both of the above under one intent - \"balance_enquiry\" or we could assign them to two different intents - \"account_enquiry\" & \"card_enquiry\". If models are suited to handle increased complexity, they should before hand classify them into seperate intents. Also, notice that \"account_enquiry\" may have other questions in the set like \"what is my account type?\", but, the 2 queries in \"account_enquiry\" intent is easily seperable (using vector similarities) than 2 queries in \"balance_enquiry\"\n",
    "\n",
    "[2] Eliminate unwanted steps :\n",
    "\n",
    "Let's say we got below 2 inputs -\n",
    "\n",
    "- Can i pay John using chatbot?\n",
    "- pay John 1000\n",
    "\n",
    "You can choose to put the 1st question under \"FAQ\" intent and 2nd one under \"transaction\" intent, or alternatively we can eliminate a step and train model to put them both under \"transaction\" intent (to initiate transaction with missing entity = money amount). Notice that, since the words in sentences are similar in this case it will also take a load off the classifier.\n"
   ]
  },
  {
   "cell_type": "markdown",
   "metadata": {
    "id": "Lrb2p1xjhSti"
   },
   "source": [
    "**How useful are NER tags?**\n",
    "\n",
    "A simple example is one given just above, we can check given an intent that some prerequisite tags are present to satisfy further functions in pipeline. If a word is identified as an entity, we can use the word vector to match similarity. Example - if user inputs \"what were my grocery spendings\" and we had recorded transactional tags for \"milk\", \"bread\", etc, the model might identify \"grocery\" as a tag and then match it with tags like \"milk\" & \"bread\" tags.\n",
    "\n",
    "\n"
   ]
  },
  {
   "cell_type": "markdown",
   "metadata": {
    "id": "1vr8Db0Tj5gA"
   },
   "source": [
    "**Parallel training**\n",
    "\n",
    "Both models give multiple outputs using the same network, training them parallely on loss from NER tags and loss from intents increases the scope of loss correction. It could be thought of one loss teacher forcing the other, synergically giving better results. This is also proven in the paper below - \n",
    "\n",
    "https://arxiv.org/pdf/1902.10909.pdf\n",
    "\n"
   ]
  },
  {
   "cell_type": "markdown",
   "metadata": {
    "id": "q7wZgaXlAmdI"
   },
   "source": [
    "# Distilbert Model"
   ]
  },
  {
   "cell_type": "markdown",
   "metadata": {
    "id": "Hu1VRG0a5Uvp"
   },
   "source": [
    "## Model structure"
   ]
  },
  {
   "cell_type": "code",
   "execution_count": null,
   "metadata": {
    "colab": {
     "base_uri": "https://localhost:8080/",
     "height": 122
    },
    "id": "HHqViexGXXQE",
    "outputId": "4da31439-943d-4bf2-d13a-d99a549895e6"
   },
   "outputs": [
    {
     "name": "stderr",
     "output_type": "stream",
     "text": [
      "Some weights of the model checkpoint at distilbert-base-uncased were not used when initializing TFDistilBertModel: ['vocab_transform', 'vocab_projector', 'activation_13', 'vocab_layer_norm']\n",
      "- This IS expected if you are initializing TFDistilBertModel from the checkpoint of a model trained on another task or with another architecture (e.g. initializing a BertForSequenceClassification model from a BertForPretraining model).\n",
      "- This IS NOT expected if you are initializing TFDistilBertModel from the checkpoint of a model that you expect to be exactly identical (initializing a BertForSequenceClassification model from a BertForSequenceClassification model).\n",
      "All the weights of TFDistilBertModel were initialized from the model checkpoint at distilbert-base-uncased.\n",
      "If your task is similar to the task the model of the checkpoint was trained on, you can already use TFDistilBertModel for predictions without further training.\n"
     ]
    }
   ],
   "source": [
    "\n",
    "transformer = TFDistilBertModel.from_pretrained('distilbert-base-uncased' , trainable = True)\n"
   ]
  },
  {
   "cell_type": "code",
   "execution_count": null,
   "metadata": {
    "colab": {
     "base_uri": "https://localhost:8080/",
     "height": 476
    },
    "id": "RTiI6bcwc9_Y",
    "outputId": "95fbc60d-baf4-4ad3-e266-d89fee4169ff"
   },
   "outputs": [
    {
     "name": "stdout",
     "output_type": "stream",
     "text": [
      "Model: \"functional_1\"\n",
      "__________________________________________________________________________________________________\n",
      "Layer (type)                    Output Shape         Param #     Connected to                     \n",
      "==================================================================================================\n",
      "input_ids (InputLayer)          [(None, 50)]         0                                            \n",
      "__________________________________________________________________________________________________\n",
      "attention_mask (InputLayer)     [(None, 50)]         0                                            \n",
      "__________________________________________________________________________________________________\n",
      "distilbert (TFDistilBertMainLay ((None, 50, 768),)   66362880    input_ids[0][0]                  \n",
      "                                                                 attention_mask[0][0]             \n",
      "__________________________________________________________________________________________________\n",
      "tf_op_layer_slice1 (TensorFlowO [(None, 1, 768)]     0           distilbert[0][0]                 \n",
      "__________________________________________________________________________________________________\n",
      "tf_op_layer_slice2 (TensorFlowO [(None, 49, 768)]    0           distilbert[0][0]                 \n",
      "__________________________________________________________________________________________________\n",
      "reshape (Reshape)               (None, 768)          0           tf_op_layer_slice1[0][0]         \n",
      "__________________________________________________________________________________________________\n",
      "Conv1D (Conv1D)                 (None, 49, 6)        4614        tf_op_layer_slice2[0][0]         \n",
      "__________________________________________________________________________________________________\n",
      "cls_output (Dense)              (None, 8)            6152        reshape[0][0]                    \n",
      "__________________________________________________________________________________________________\n",
      "sentence_output (Softmax)       (None, 49, 6)        0           Conv1D[0][0]                     \n",
      "==================================================================================================\n",
      "Total params: 66,373,646\n",
      "Trainable params: 66,373,646\n",
      "Non-trainable params: 0\n",
      "__________________________________________________________________________________________________\n"
     ]
    }
   ],
   "source": [
    "\n",
    "tf.keras.backend.clear_session()\n",
    "\n",
    "num_classes_ner = 6\n",
    "max_length = 50\n",
    "\n",
    "input_ids = tf.keras.Input( shape = max_length , dtype = 'int32' , name = 'input_ids' )\n",
    "attention_mask = tf.keras.Input( shape = max_length , dtype = 'int32' , name = 'attention_mask' )\n",
    "\n",
    "x = transformer.distilbert( [input_ids , attention_mask] )[0]\n",
    "\n",
    "cls = tf.slice( x , [0,0,0] , [-1,1,-1] , name = 'slice1' )\n",
    "cls = Reshape((768,))(cls)\n",
    "cls = Dense( 8 , activation='softmax' , name = 'cls_output' )(cls)\n",
    "\n",
    "sentence = tf.slice( x , [0,1,0] , [-1,(max_length-1),-1] , name = 'slice2' )\n",
    "sentence = Conv1D( num_classes_ner , 1 , activation = 'relu' , name = 'Conv1D' )(sentence)\n",
    "sentence = Softmax( axis=-1 , name = 'sentence_output' )(sentence)\n",
    "\n",
    "bert_model = tf.keras.Model( inputs = [input_ids , attention_mask] , outputs = [cls , sentence , x])\n",
    "bert_model.summary()\n"
   ]
  },
  {
   "cell_type": "markdown",
   "metadata": {
    "id": "Y6Q6llk2RbPB"
   },
   "source": [
    "## Custom training"
   ]
  },
  {
   "cell_type": "code",
   "execution_count": null,
   "metadata": {
    "id": "npiNBCa4d5aM"
   },
   "outputs": [],
   "source": [
    "\n",
    "def shuffle( input_ids , attention_mask , intents , encoded_labels ):\n",
    "\n",
    "    index = np.arange(len(input_ids))\n",
    "    np.random.shuffle(index)\n",
    "    input_ids = input_ids[index]\n",
    "    attention_mask = attention_mask[index]\n",
    "    intents = intents[index]\n",
    "    encoded_labels = encoded_labels[index]\n",
    "\n",
    "    return input_ids , attention_mask , intents , encoded_labels\n"
   ]
  },
  {
   "cell_type": "code",
   "execution_count": null,
   "metadata": {
    "id": "-tHCKWdKC93G"
   },
   "outputs": [],
   "source": [
    "\n",
    "# Train parameters\n",
    "\n",
    "epochs = 6\n",
    "train_batch_size = 20\n",
    "\n",
    "cce = tf.keras.losses.CategoricalCrossentropy()\n",
    "scce = tf.keras.losses.SparseCategoricalCrossentropy()\n",
    "\n",
    "optimizer = tf.keras.optimizers.Adam(learning_rate = 1e-4)\n",
    "\n",
    "ca_train = tf.keras.metrics.CategoricalAccuracy()\n",
    "sca_train = tf.keras.metrics.SparseCategoricalAccuracy()\n",
    "\n",
    "ca_test = tf.keras.metrics.CategoricalAccuracy()\n",
    "sca_test = tf.keras.metrics.SparseCategoricalAccuracy()\n"
   ]
  },
  {
   "cell_type": "code",
   "execution_count": null,
   "metadata": {
    "id": "1tpY7mygRnzL"
   },
   "outputs": [],
   "source": [
    "\n",
    "@tf.function\n",
    "\n",
    "def train_batch( input_ids , attention_mask , intents , encoded_labels , batch_size ):\n",
    "\n",
    "    bert_model.trainable = True\n",
    "\n",
    "    with tf.GradientTape() as tape:\n",
    "\n",
    "        cls , sentence , vectors = bert_model([ input_ids , attention_mask ])\n",
    "        \n",
    "        loss = cce( intents , cls )\n",
    "\n",
    "        focus = tf.concat( ( attention_mask[:,2:] , np.arange(batch_size).reshape(-1,1) ) , axis=1 )\n",
    "\n",
    "        loss += scce( encoded_labels[:,1:] , sentence , sample_weight = focus )\n",
    "\n",
    "        variables = bert_model.trainable_variables\n",
    "\n",
    "        gradients = tape.gradient(loss, variables)\n",
    "\n",
    "        optimizer.apply_gradients(zip(gradients, variables))\n",
    "\n",
    "    ca_train.update_state( intents , cls )\n",
    "\n",
    "    sca_train.update_state( encoded_labels[:,1:] , sentence , sample_weight = focus )\n",
    "\n",
    "    return loss , ca_train.result() , sca_train.result()\n"
   ]
  },
  {
   "cell_type": "code",
   "execution_count": null,
   "metadata": {
    "id": "d265ljLpQViU"
   },
   "outputs": [],
   "source": [
    "\n",
    "@tf.function\n",
    "\n",
    "def evaluate( input_ids , attention_mask , intents , encoded_labels ):\n",
    "\n",
    "    bert_model.trainable = False\n",
    "\n",
    "    cls , sentence , vectors = bert_model([ input_ids , attention_mask ])\n",
    "        \n",
    "    loss = cce( intents , cls )\n",
    "\n",
    "    focus = tf.concat( ( attention_mask[:,2:] , np.arange(len(input_ids)).reshape(-1,1) ) , axis=1 )\n",
    "\n",
    "    loss += scce( encoded_labels[:,1:] , sentence , sample_weight = focus )\n",
    "\n",
    "    ca_test.update_state( intents , cls )\n",
    "\n",
    "    sca_test.update_state( encoded_labels[:,1:] , sentence , sample_weight = focus )\n",
    "\n",
    "    return loss , ca_test.result() , sca_test.result()\n"
   ]
  },
  {
   "cell_type": "code",
   "execution_count": null,
   "metadata": {
    "colab": {
     "base_uri": "https://localhost:8080/",
     "height": 323
    },
    "id": "_4JeyTRd7VLA",
    "outputId": "4e2487c4-a8c7-44f6-b1d4-38d89c8151c1"
   },
   "outputs": [
    {
     "name": "stdout",
     "output_type": "stream",
     "text": [
      "@ epoch  1 , @ batch 111\n",
      " train_loss = 0.03870 | train_cls_accuracy 0.94550 | train_ner_accuracy 0.90144\n",
      " test_loss = 0.04455 | test_cls_accuracy 0.99866 | test_ner_accuracy 0.99792\n",
      "@ epoch  2 , @ batch 111\n",
      " train_loss = 0.01273 | train_cls_accuracy 0.99730 | train_ner_accuracy 0.96307\n",
      " test_loss = 0.01527 | test_cls_accuracy 1.00000 | test_ner_accuracy 0.99966\n",
      "@ epoch  3 , @ batch 111\n",
      " train_loss = 0.00050 | train_cls_accuracy 1.00000 | train_ner_accuracy 0.99934\n",
      " test_loss = 0.00181 | test_cls_accuracy 1.00000 | test_ner_accuracy 0.99997\n",
      "@ epoch  4 , @ batch 111\n",
      " train_loss = 0.00026 | train_cls_accuracy 1.00000 | train_ner_accuracy 0.99988\n",
      " test_loss = 0.00151 | test_cls_accuracy 1.00000 | test_ner_accuracy 0.99998\n",
      "@ epoch  5 , @ batch 111\n",
      " train_loss = 0.00366 | train_cls_accuracy 1.00000 | train_ner_accuracy 0.99988\n",
      " test_loss = 0.00124 | test_cls_accuracy 1.00000 | test_ner_accuracy 0.99998\n",
      "@ epoch  6 , @ batch 111\n",
      " train_loss = 0.00011 | train_cls_accuracy 1.00000 | train_ner_accuracy 0.99988\n",
      " test_loss = 0.00124 | test_cls_accuracy 1.00000 | test_ner_accuracy 0.99998\n"
     ]
    }
   ],
   "source": [
    "\n",
    "for i in range(epochs):\n",
    "\n",
    "    train_input_ids , train_attention_mask , train_intents , encoded_train_labels = \\\n",
    "    shuffle( train_input_ids , train_attention_mask , train_intents , encoded_train_labels )\n",
    "\n",
    "    ca_train.reset_states()\n",
    "    sca_train.reset_states()\n",
    "    ca_test.reset_states()\n",
    "    sca_test.reset_states()\n",
    "\n",
    "    for j in range(len(train_input_ids) // train_batch_size):\n",
    "\n",
    "        a = j * train_batch_size\n",
    "        b = (j+1) * train_batch_size\n",
    "        train_loss , train_cls_accuracy , train_ner_accuracy = train_batch( train_input_ids[a:b] , train_attention_mask[a:b] , \n",
    "                                                                            train_intents[a:b], encoded_train_labels[a:b] ,\n",
    "                                                                            train_batch_size)\n",
    "        \n",
    "    test_loss , test_cls_accuracy , test_ner_accuracy = evaluate( test_input_ids , test_attention_mask , test_intents , encoded_test_labels )\n",
    "\n",
    "    print('@ epoch %2d , @ batch %2d\\n train_loss = %.5f | train_cls_accuracy %.5f | train_ner_accuracy %.5f\\n test_loss = %.5f | test_cls_accuracy %.5f | test_ner_accuracy %.5f'\\\n",
    "          %(i+1 , j+1 ,train_loss.numpy() , train_cls_accuracy.numpy() , train_ner_accuracy.numpy() , \n",
    "          test_loss.numpy() , test_cls_accuracy.numpy() , test_ner_accuracy.numpy()))\n",
    "\n",
    "    with open('save.csv','a') as f:\n",
    "        f.write( str(( i+1 ,train_loss.numpy() , train_cls_accuracy.numpy() , train_ner_accuracy.numpy() , \n",
    "                 test_loss.numpy() , test_cls_accuracy.numpy() , test_ner_accuracy.numpy() ))[1:-1] +'\\n' )\n"
   ]
  },
  {
   "cell_type": "code",
   "execution_count": null,
   "metadata": {
    "colab": {
     "base_uri": "https://localhost:8080/",
     "height": 156
    },
    "id": "DdVXa-O9GiTf",
    "outputId": "0b25d8f0-585c-49f7-cd97-acbfff692159"
   },
   "outputs": [
    {
     "name": "stdout",
     "output_type": "stream",
     "text": [
      "WARNING:tensorflow:Skipping full serialization of Keras layer <tensorflow.python.keras.layers.core.Dropout object at 0x7f4dfa3d4c88>, because it is not built.\n",
      "WARNING:tensorflow:Skipping full serialization of Keras layer <tensorflow.python.keras.layers.core.Dropout object at 0x7f4d092ea0b8>, because it is not built.\n",
      "WARNING:tensorflow:Skipping full serialization of Keras layer <tensorflow.python.keras.layers.core.Dropout object at 0x7f4dfa6276a0>, because it is not built.\n",
      "WARNING:tensorflow:Skipping full serialization of Keras layer <tensorflow.python.keras.layers.core.Dropout object at 0x7f4d0901b6d8>, because it is not built.\n",
      "WARNING:tensorflow:Skipping full serialization of Keras layer <tensorflow.python.keras.layers.core.Dropout object at 0x7f4dfa34fa20>, because it is not built.\n",
      "WARNING:tensorflow:Skipping full serialization of Keras layer <tensorflow.python.keras.layers.core.Dropout object at 0x7f4d092eba90>, because it is not built.\n",
      "INFO:tensorflow:Assets written to: /content/drive/My Drive/AAI/models/bert_model/assets\n"
     ]
    }
   ],
   "source": [
    "\n",
    "bert_model.save('/content/drive/My Drive/AAI/models/bert_model')\n",
    "bert_model.save('/content/drive/My Drive/AAI/models/bert_model.h5')\n"
   ]
  },
  {
   "cell_type": "markdown",
   "metadata": {
    "id": "vGtJIzeSAbJw"
   },
   "source": [
    "## Results\n",
    "\n"
   ]
  },
  {
   "cell_type": "markdown",
   "metadata": {
    "id": "LT-lyiJkICqz"
   },
   "source": [
    "NOTE: You can find code by code explaination for this section in inference notebook"
   ]
  },
  {
   "cell_type": "code",
   "execution_count": null,
   "metadata": {
    "id": "KUjiLv_ug3NM"
   },
   "outputs": [],
   "source": [
    "\n",
    "unique_intents =  np.array( bag_of_words.get_feature_names() )\n",
    "id2tag = { 0 : 'o' , 1 : 's-id', 2 : 'e-id', 3 : 's-product', 4 : 'e-product' , 5 : 'na' }\n",
    "\n",
    "def bert_model_out( text ):\n",
    "\n",
    "    intent_predictions = []\n",
    "\n",
    "    ner_predictions = []\n",
    "\n",
    "    word_vectors = []\n",
    "\n",
    "\n",
    "    text = [text.split(' ')]\n",
    "    encoding = tokenizer(text , is_pretokenized = True , return_offsets_mapping=True , padding='max_length' , truncation=True , max_length=50)\n",
    "\n",
    "    input_ids = np.array(encoding.input_ids)\n",
    "    attention_mask = np.array(encoding.attention_mask)\n",
    "    offset_mapping = encoding.offset_mapping\n",
    "\n",
    "    cls , sentence , vectors = bert_model([input_ids , attention_mask])\n",
    "\n",
    "    sentence_vector = vectors[0,0,:]\n",
    "\n",
    "    intent_predictions = unique_intents[tf.math.argmax(cls , axis = 1).numpy()][0] \n",
    "\n",
    "    # Span of words is offset by the tokenizer i.e tokenization( rahul ) will be something like r , ##ah , ##ul \n",
    "    # offset_mapping is values representing this change - for rahul the values will be - (0,1) , (1,3) , (3,5) \n",
    "    # below code is to detect span of such tokens in a sentence\n",
    "    # example sentence - pay rahul 1000 dollars\n",
    "    # example tokenization - [ pay , r , ##ah , ##ul , 1000 , dollars]\n",
    "    # example span of word disintegration - from index 1 upto 3 , i.e for slice = tokenized_sentence[1:4]\n",
    "\n",
    "    te1 = np.array([i for i,j in offset_mapping[0]]) > 0\n",
    "    te2 = np.roll( te1 , 1 )\n",
    "    starts = te1 & ~te2\n",
    "    ends = ~te1 & te2\n",
    "    starts = np.nonzero(starts)[0]\n",
    "    ends = np.nonzero(ends)[0]\n",
    "    start_end = dict(zip(starts,ends))\n",
    "\n",
    "    # Reference for detecting span of nonzero values\n",
    "    # https://stackoverflow.com/questions/17150974/find-span-where-condition-is-true-using-numpy\n",
    "\n",
    "    k = 1\n",
    "    for i in text[0]:\n",
    "\n",
    "        if k in start_end.keys():\n",
    "\n",
    "            probs = sentence[0 , k-1 , : ]\n",
    "\n",
    "            ner = tf.math.argmax(probs).numpy()\n",
    "            ner = id2tag[ner]\n",
    "            ner_predictions.append(ner)\n",
    "\n",
    "            word_vector = tf.reduce_mean(vectors[0 , k:start_end[k] , : ] , axis = 0)               \n",
    "            word_vectors.append(word_vector)\n",
    "\n",
    "            k = start_end[k]\n",
    "            \n",
    "\n",
    "        else:\n",
    "\n",
    "            probs = sentence[0 , k-1 , : ]\n",
    "            \n",
    "            ner = tf.math.argmax(probs).numpy()\n",
    "            ner = id2tag[ner]\n",
    "            ner_predictions.append(ner)\n",
    "\n",
    "            word_vector = vectors[0 , k , :]\n",
    "            word_vectors.append(word_vector)\n",
    "\n",
    "            k += 1\n",
    "            \n",
    "    return intent_predictions , ner_predictions , word_vectors , sentence_vector\n"
   ]
  },
  {
   "cell_type": "code",
   "execution_count": null,
   "metadata": {
    "colab": {
     "base_uri": "https://localhost:8080/",
     "height": 207
    },
    "id": "jbV1q2jACSqb",
    "outputId": "36db75df-a68f-405b-aa26-87bb424123d0"
   },
   "outputs": [
    {
     "name": "stderr",
     "output_type": "stream",
     "text": [
      "/usr/local/lib/python3.6/dist-packages/transformers/tokenization_utils_fast.py:353: FutureWarning: `is_pretokenized` is deprecated and will be removed in a future version, use `is_split_into_words` instead.\n",
      "  FutureWarning,\n"
     ]
    },
    {
     "name": "stdout",
     "output_type": "stream",
     "text": [
      "transactions_intent \n",
      "\n",
      "['o', 's-id', 'na', 'o', 'o', 's-product'] \n",
      "\n",
      "[TensorShape([768]), TensorShape([768]), TensorShape([768]), TensorShape([768]), TensorShape([768]), TensorShape([768])] \n",
      "\n",
      "(768,) \n",
      "\n"
     ]
    }
   ],
   "source": [
    "\n",
    "intent_predictions , ner_predictions , word_vectors , sentence_vector = bert_model_out('pay ravikanth using my gold card')\n",
    "\n",
    "print(intent_predictions ,'\\n')\n",
    "print(ner_predictions ,'\\n') \n",
    "print([i.shape for i in word_vectors] ,'\\n')\n",
    "print(sentence_vector.shape,'\\n')\n"
   ]
  },
  {
   "cell_type": "code",
   "execution_count": null,
   "metadata": {
    "colab": {
     "base_uri": "https://localhost:8080/",
     "height": 153
    },
    "id": "5rqL6FWqN1DG",
    "outputId": "017fcb40-6391-47b3-c98f-fe640b42b739"
   },
   "outputs": [
    {
     "data": {
      "text/plain": [
       "['analyze_transactions',\n",
       " 'balances',\n",
       " 'bank_related',\n",
       " 'chatbot_related',\n",
       " 'check_credit_card_details',\n",
       " 'check_loan_details',\n",
       " 'greetings',\n",
       " 'transactions_intent']"
      ]
     },
     "execution_count": 59,
     "metadata": {
      "tags": []
     },
     "output_type": "execute_result"
    }
   ],
   "source": [
    "\n",
    "# NER tags in dataset\n",
    "id2tag = { 0 : 'o' , 1 : 's-id', 2 : 'e-id', 3 : 's-product', 4 : 'e-product' , 5 : 'na' }\n",
    "\n",
    "# Intents in dataset\n",
    "bag_of_words.get_feature_names()\n"
   ]
  },
  {
   "cell_type": "markdown",
   "metadata": {
    "id": "UnjsBJj7mg9y"
   },
   "source": [
    "## Performance metrics"
   ]
  },
  {
   "cell_type": "code",
   "execution_count": null,
   "metadata": {
    "colab": {
     "base_uri": "https://localhost:8080/",
     "height": 334
    },
    "id": "Um9kWEiPe2qv",
    "outputId": "7a53bd82-83bd-4674-956b-7fd9b639067f"
   },
   "outputs": [
    {
     "data": {
      "image/png": "[encoded data removed]",
      "text/plain": [
       "<Figure size 1080x360 with 2 Axes>"
      ]
     },
     "metadata": {
      "tags": []
     },
     "output_type": "display_data"
    }
   ],
   "source": [
    "\n",
    "performance_data = pd.read_csv('save.csv')\n",
    "performance_data = performance_data[:6]\n",
    "plt.figure(facecolor='beige' , figsize=(15,5))\n",
    "\n",
    "plt.subplot(121)\n",
    "plt.xlabel('epochs') ; plt.ylabel('loss')\n",
    "plt.plot(performance_data['epoch'] , performance_data['train_loss'] , color='#EF3220' , label='train_loss' )\n",
    "plt.plot(performance_data['epoch'] , performance_data['test_loss'] , color='#F38E16' , label='test_loss' )\n",
    "plt.legend()\n",
    "\n",
    "plt.subplot(122)\n",
    "plt.xlabel('epochs') ; plt.ylabel('accuracy')\n",
    "plt.plot(performance_data['epoch'] , performance_data['cls_train_acc'] , color='#048402' , label='cls_train_acc' )\n",
    "plt.plot(performance_data['epoch'] , performance_data['cls_test_acc'] , color='#75ED65' , label='cls_test_acc' )\n",
    "plt.plot(performance_data['epoch'] , performance_data['ner_train_acc'] , color='#0507BE' , label='ner_train_acc' )\n",
    "plt.plot(performance_data['epoch'] , performance_data['ner_test_acc'] , color='#07B4FF' , label='ner_test_acc' )\n",
    "plt.legend()\n",
    "\n",
    "plt.show()\n"
   ]
  },
  {
   "cell_type": "code",
   "execution_count": null,
   "metadata": {
    "colab": {
     "base_uri": "https://localhost:8080/",
     "height": 452
    },
    "id": "Qx0QMUAeu-2K",
    "outputId": "f535de8b-0dc9-45d5-8fca-2971c55fa73c"
   },
   "outputs": [
    {
     "data": {
      "image/png": "[encoded data removed]",
      "text/plain": [
       "<Figure size 576x360 with 2 Axes>"
      ]
     },
     "metadata": {
      "tags": []
     },
     "output_type": "display_data"
    }
   ],
   "source": [
    "\n",
    "cls , sentence , vectors = bert_model([test_input_ids , test_attention_mask])\n",
    "pred_intents = tf.math.argmax(cls , axis = 1).numpy()\n",
    "intent_actual = tf.math.argmax(test_intents , axis = 1).numpy()\n",
    "\n",
    "bert_mat_intents = confusion_matrix(intent_actual, pred_intents , labels=[0,1,2,3,4,5,6,7])\n",
    "\n",
    "plt.figure(facecolor='#A6CAF5' , figsize=(8,5))\n",
    "ax = sns.heatmap(bert_mat_intents ,robust=True , annot=True , \n",
    "                 xticklabels = bag_of_words.get_feature_names() , \n",
    "                 yticklabels = bag_of_words.get_feature_names())\n",
    "ax.set(xlabel='true labels', ylabel='predicted labels')\n",
    "plt.show()\n"
   ]
  },
  {
   "cell_type": "code",
   "execution_count": null,
   "metadata": {
    "colab": {
     "base_uri": "https://localhost:8080/",
     "height": 388
    },
    "id": "DUjHUlwT9MlS",
    "outputId": "d32699ad-d6b7-43e9-bdae-afbdb73377e5"
   },
   "outputs": [
    {
     "name": "stderr",
     "output_type": "stream",
     "text": [
      "/usr/local/lib/python3.6/dist-packages/transformers/tokenization_utils_fast.py:353: FutureWarning: `is_pretokenized` is deprecated and will be removed in a future version, use `is_split_into_words` instead.\n",
      "  FutureWarning,\n"
     ]
    },
    {
     "data": {
      "image/png": "[encoded data removed]",
      "text/plain": [
       "<Figure size 576x360 with 2 Axes>"
      ]
     },
     "metadata": {
      "tags": []
     },
     "output_type": "display_data"
    }
   ],
   "source": [
    "\n",
    "pred_ner = []\n",
    "ner_actual = []\n",
    "\n",
    "for i,j in zip(test_text_og , test_labels):\n",
    "\n",
    "    pred_ner += bert_model_out(' '.join(i))[1]\n",
    "    ner_actual += j \n",
    "\n",
    "bert_ner_intents = confusion_matrix(ner_actual , pred_ner , labels = list(id2tag.values()))\n",
    "\n",
    "plt.figure(facecolor='#A6CAF5' , figsize=(8,5))\n",
    "ax = sns.heatmap(bert_ner_intents ,robust=True , annot=True ,\n",
    "                 xticklabels = list(id2tag.values()) , \n",
    "                 yticklabels = list(id2tag.values()))\n",
    "ax.set(xlabel='true labels', ylabel='predicted labels')\n",
    "plt.show()\n"
   ]
  },
  {
   "cell_type": "code",
   "execution_count": null,
   "metadata": {
    "colab": {
     "base_uri": "https://localhost:8080/",
     "height": 88
    },
    "id": "u8pYyZjJrV9t",
    "outputId": "91e351d3-c097-4252-d64b-bc77af17c75b"
   },
   "outputs": [
    {
     "name": "stderr",
     "output_type": "stream",
     "text": [
      "/usr/local/lib/python3.6/dist-packages/transformers/tokenization_utils_fast.py:353: FutureWarning: `is_pretokenized` is deprecated and will be removed in a future version, use `is_split_into_words` instead.\n",
      "  FutureWarning,\n"
     ]
    },
    {
     "name": "stdout",
     "output_type": "stream",
     "text": [
      "17\n"
     ]
    }
   ],
   "source": [
    "\n",
    "start = time.time()\n",
    "count = 0\n",
    "elapsed = 0\n",
    "\n",
    "while elapsed < 1:\n",
    "    count += 1 \n",
    "    a,b,c,d = bert_model_out('pay ravikanth using my credit card')\n",
    "    elapsed = time.time() - start\n",
    "\n",
    "print(count)\n"
   ]
  },
  {
   "cell_type": "markdown",
   "metadata": {
    "id": "fINs1HTUgjN3"
   },
   "source": [
    "\n",
    "# GRU + CRF Model\n"
   ]
  },
  {
   "cell_type": "markdown",
   "metadata": {
    "id": "4Duiot655ea3"
   },
   "source": [
    "## Model structure"
   ]
  },
  {
   "cell_type": "code",
   "execution_count": null,
   "metadata": {
    "colab": {
     "base_uri": "https://localhost:8080/"
    },
    "id": "ZdnEG5OYRZxp",
    "outputId": "ebb24361-640d-4622-b7c2-aec0742f47bf"
   },
   "outputs": [
    {
     "name": "stdout",
     "output_type": "stream",
     "text": [
      "Model: \"functional_5\"\n",
      "__________________________________________________________________________________________________\n",
      "Layer (type)                    Output Shape         Param #     Connected to                     \n",
      "==================================================================================================\n",
      "input_ids (InputLayer)          [(None, 50)]         0                                            \n",
      "__________________________________________________________________________________________________\n",
      "Word_Embedding_11 (Embedding)   (None, 50, 300)      9156600     input_ids[0][0]                  \n",
      "__________________________________________________________________________________________________\n",
      "bidirectional_1 (Bidirectional) (None, 50, 300)      406800      Word_Embedding_11[0][0]          \n",
      "__________________________________________________________________________________________________\n",
      "reshape_2 (Reshape)             (None, 15000)        0           bidirectional_1[0][0]            \n",
      "__________________________________________________________________________________________________\n",
      "cls_dense1 (Dense)              (None, 150)          2250150     reshape_2[0][0]                  \n",
      "__________________________________________________________________________________________________\n",
      "tf_op_layer_slice2_2 (TensorFlo [(None, 49, 300)]    0           bidirectional_1[0][0]            \n",
      "__________________________________________________________________________________________________\n",
      "cls_output (Dense)              (None, 8)            1208        cls_dense1[0][0]                 \n",
      "__________________________________________________________________________________________________\n",
      "Conv1D (Conv1D)                 (None, 49, 6)        1806        tf_op_layer_slice2_2[0][0]       \n",
      "==================================================================================================\n",
      "Total params: 11,816,564\n",
      "Trainable params: 11,816,564\n",
      "Non-trainable params: 0\n",
      "__________________________________________________________________________________________________\n"
     ]
    }
   ],
   "source": [
    "\n",
    "num_classes_ner = 6\n",
    "max_length = 50\n",
    "vocab_size = tokenizer.vocab_size\n",
    "\n",
    "input_ids = tf.keras.Input( shape = max_length , dtype = 'int32' , name = 'input_ids' )\n",
    "\n",
    "emb_inp = Embedding( input_dim = vocab_size , output_dim = 300 , \n",
    "                     input_length = max_length, trainable = True , name = 'Word_Embedding_11' )(input_ids)\n",
    "\n",
    "x = Bidirectional(GRU( 150 , return_sequences = True , name = 'encoder' ))(emb_inp)\n",
    "\n",
    "cls = Reshape((-1,))(x)\n",
    "cls = Dense( 150 , activation='relu' , name = 'cls_dense1' )(cls)\n",
    "cls = Dense( 8 , activation='softmax' , name = 'cls_output' )(cls)\n",
    "\n",
    "sentence = tf.slice( x , [0,1,0] , [-1,(max_length-1),-1] , name = 'slice2' )\n",
    "sentence = Conv1D( num_classes_ner , 1 , activation = 'relu' , name = 'Conv1D' )(sentence)\n",
    "\n",
    "gru_model = tf.keras.Model( inputs = input_ids , outputs = [cls , sentence , x])\n",
    "\n",
    "gru_model.summary()\n"
   ]
  },
  {
   "cell_type": "markdown",
   "metadata": {
    "id": "N30qE7eZ5nVk"
   },
   "source": [
    "## Custom training"
   ]
  },
  {
   "cell_type": "code",
   "execution_count": null,
   "metadata": {
    "id": "FgqC3-OHZPL3"
   },
   "outputs": [],
   "source": [
    "\n",
    "class sequence_accuracy():\n",
    "\n",
    "    def __init__(self):\n",
    "        self.accuracy = 0\n",
    "        self.d = 1\n",
    "\n",
    "    def update_states( self , seq_prediction , seq_actual ):\n",
    "        te = np.sum(np.array(seq_prediction) == np.array(seq_actual)) / len(seq_prediction)\n",
    "        self.accuracy = (self.accuracy + te) / self.d\n",
    "        self.d = 2\n",
    "\n",
    "    def reset_states(self):\n",
    "        self.accuracy = 0\n",
    "        self.d = 1\n"
   ]
  },
  {
   "cell_type": "code",
   "execution_count": null,
   "metadata": {
    "id": "TbYVR53J1ceI"
   },
   "outputs": [],
   "source": [
    "\n",
    "transition_params = tf.keras.initializers.GlorotNormal()((6,6))\n",
    "\n",
    "cce = tf.keras.losses.CategoricalCrossentropy()\n",
    "\n",
    "optimizer = tf.keras.optimizers.Adam(learning_rate = 5e-5)\n",
    "\n",
    "ca_train = tf.keras.metrics.CategoricalAccuracy()\n",
    "ca_test = tf.keras.metrics.CategoricalAccuracy()\n",
    "\n",
    "sa_train = sequence_accuracy()\n",
    "sa_test = sequence_accuracy()\n"
   ]
  },
  {
   "cell_type": "code",
   "execution_count": null,
   "metadata": {
    "id": "ZvcdRc5VaDPI"
   },
   "outputs": [],
   "source": [
    "\n",
    "def train_batch( input_ids , attention_mask , intents , encoded_labels ):\n",
    "\n",
    "    global transition_params \n",
    "\n",
    "    gru_model.trainable = True\n",
    "\n",
    "    with tf.GradientTape() as tape:\n",
    "\n",
    "        cls , sentence , vectors = gru_model(input_ids)\n",
    "        \n",
    "        loss = cce( intents , cls )\n",
    "\n",
    "        focus = tf.reduce_sum(attention_mask , axis = 1) - 2 \n",
    "\n",
    "        l , transition_params = crf_log_likelihood( sentence , encoded_labels[:,1:] , focus , transition_params )\n",
    "\n",
    "        loss += tf.reduce_mean( -l )\n",
    "\n",
    "        variables = gru_model.trainable_variables\n",
    "\n",
    "        gradients = tape.gradient(loss, variables)\n",
    "\n",
    "        optimizer.apply_gradients(zip(gradients, variables)) \n",
    "\n",
    "    ca_train.update_state( intents , cls )\n",
    "\n",
    "    for i,j,k in zip(sentence.numpy() , encoded_labels[:,1:] , focus):\n",
    "            \n",
    "        pred = viterbi_decode( i[:k] , transition_params )[0]\n",
    "        sa_train.update_states( pred , j[:k] )\n",
    "\n",
    "    return loss.numpy() , ca_train.result().numpy() , sa_train.accuracy , transition_params\n",
    "\n",
    "# Refernce\n",
    "# https://github.com/tensorflow/addons/issues/1769\n",
    "# https://www.tensorflow.org/addons/api_docs/python/tfa/text/crf_log_likelihood\n"
   ]
  },
  {
   "cell_type": "code",
   "execution_count": null,
   "metadata": {
    "id": "_TR1Voz731Tx"
   },
   "outputs": [],
   "source": [
    "\n",
    "def evaluate(input_ids , attention_mask , intents , encoded_labels):\n",
    "\n",
    "    global transition_params\n",
    "\n",
    "    gru_model.trainable = False\n",
    "    \n",
    "    cls , sentence , vectors = gru_model(input_ids)\n",
    "\n",
    "    loss = cce( intents , cls )\n",
    "\n",
    "    focus = tf.reduce_sum(attention_mask , axis = 1) - 2 \n",
    "\n",
    "    loss += tf.reduce_mean( -crf_log_likelihood( sentence , encoded_labels[:,1:] , focus )[0] )\n",
    "\n",
    "    ca_test.update_state( intents , cls )\n",
    "\n",
    "    for i,j,k in zip(sentence.numpy() , encoded_labels[:,1:] , focus):\n",
    "\n",
    "        pred = viterbi_decode( i[:k] , transition_params )[0]\n",
    "        sa_test.update_states( pred , j[:k] )\n",
    "\n",
    "    return loss.numpy() , ca_test.result().numpy() , sa_test.accuracy \n"
   ]
  },
  {
   "cell_type": "code",
   "execution_count": null,
   "metadata": {
    "colab": {
     "base_uri": "https://localhost:8080/",
     "height": 782
    },
    "id": "3AJr6hz8_ke4",
    "outputId": "97abbded-7d47-4f9d-9a8c-8e4b7ef01286"
   },
   "outputs": [
    {
     "name": "stdout",
     "output_type": "stream",
     "text": [
      "@ epoch  1 , @ batch 111\n",
      " train_loss = 14.44696 | train_cls_accuracy 0.37342 | train_ner_accuracy 0.71439\n",
      " test_loss = 14.56220 | test_cls_accuracy 0.39759 | test_ner_accuracy 0.71043\n",
      "@ epoch  2 , @ batch 111\n",
      " train_loss = 11.14654 | train_cls_accuracy 0.54595 | train_ner_accuracy 0.69753\n",
      " test_loss = 10.67227 | test_cls_accuracy 0.70683 | test_ner_accuracy 0.68266\n",
      "@ epoch  3 , @ batch 111\n",
      " train_loss = 7.42399 | train_cls_accuracy 0.73784 | train_ner_accuracy 0.78085\n",
      " test_loss = 8.97972 | test_cls_accuracy 0.80857 | test_ner_accuracy 0.68288\n",
      "@ epoch  4 , @ batch 111\n",
      " train_loss = 6.56743 | train_cls_accuracy 0.80495 | train_ner_accuracy 0.79667\n",
      " test_loss = 6.93695 | test_cls_accuracy 0.85141 | test_ner_accuracy 0.80746\n",
      "@ epoch  5 , @ batch 111\n",
      " train_loss = 4.72424 | train_cls_accuracy 0.85045 | train_ner_accuracy 0.76310\n",
      " test_loss = 5.20447 | test_cls_accuracy 0.87015 | test_ner_accuracy 0.83490\n",
      "@ epoch  6 , @ batch 111\n",
      " train_loss = 3.23301 | train_cls_accuracy 0.87162 | train_ner_accuracy 0.94092\n",
      " test_loss = 4.24110 | test_cls_accuracy 0.86479 | test_ner_accuracy 0.86601\n",
      "@ epoch  7 , @ batch 111\n",
      " train_loss = 2.32114 | train_cls_accuracy 0.88694 | train_ner_accuracy 0.96628\n",
      " test_loss = 2.83527 | test_cls_accuracy 0.91566 | test_ner_accuracy 0.87859\n",
      "@ epoch  8 , @ batch 111\n",
      " train_loss = 1.79969 | train_cls_accuracy 0.90721 | train_ner_accuracy 0.99676\n",
      " test_loss = 2.71560 | test_cls_accuracy 0.90495 | test_ner_accuracy 0.88066\n",
      "@ epoch  9 , @ batch 111\n",
      " train_loss = 1.08785 | train_cls_accuracy 0.92613 | train_ner_accuracy 0.92832\n",
      " test_loss = 1.85927 | test_cls_accuracy 0.91968 | test_ner_accuracy 0.95759\n",
      "@ epoch 10 , @ batch 111\n",
      " train_loss = 1.27061 | train_cls_accuracy 0.94189 | train_ner_accuracy 0.96860\n",
      " test_loss = 1.81292 | test_cls_accuracy 0.93173 | test_ner_accuracy 0.95760\n",
      "@ epoch 11 , @ batch 111\n",
      " train_loss = 0.89367 | train_cls_accuracy 0.95180 | train_ner_accuracy 0.99217\n",
      " test_loss = 1.56324 | test_cls_accuracy 0.95582 | test_ner_accuracy 0.98636\n",
      "@ epoch 12 , @ batch 111\n",
      " train_loss = 1.26822 | train_cls_accuracy 0.95495 | train_ner_accuracy 0.94819\n",
      " test_loss = 1.39124 | test_cls_accuracy 0.94110 | test_ner_accuracy 0.98636\n",
      "@ epoch 13 , @ batch 111\n",
      " train_loss = 0.74617 | train_cls_accuracy 0.95450 | train_ner_accuracy 0.99826\n",
      " test_loss = 1.63534 | test_cls_accuracy 0.94913 | test_ner_accuracy 0.98636\n",
      "@ epoch 14 , @ batch 111\n",
      " train_loss = 0.93183 | train_cls_accuracy 0.96396 | train_ner_accuracy 0.94727\n",
      " test_loss = 1.52912 | test_cls_accuracy 0.95582 | test_ner_accuracy 0.98636\n",
      "@ epoch 15 , @ batch 111\n",
      " train_loss = 0.98749 | train_cls_accuracy 0.96441 | train_ner_accuracy 0.99757\n",
      " test_loss = 1.20127 | test_cls_accuracy 0.95984 | test_ner_accuracy 0.98636\n"
     ]
    }
   ],
   "source": [
    "\n",
    "epochs = 15\n",
    "train_batch_size = 20\n",
    "\n",
    "for i in range(epochs):\n",
    "\n",
    "    train_input_ids , train_attention_mask , train_intents , encoded_train_labels = \\\n",
    "    shuffle( train_input_ids , train_attention_mask , train_intents , encoded_train_labels )\n",
    "\n",
    "    ca_train.reset_states()\n",
    "    sa_train.reset_states()\n",
    "    ca_test.reset_states()\n",
    "    sa_test.reset_states()\n",
    "\n",
    "    for j in range(len(train_input_ids) // train_batch_size):\n",
    "\n",
    "        a = j * train_batch_size\n",
    "        b = (j+1) * train_batch_size\n",
    "        train_loss , train_cls_accuracy , train_ner_accuracy , transition_params = train_batch( train_input_ids[a:b] , train_attention_mask[a:b] , \n",
    "                                                                                               train_intents[a:b], encoded_train_labels[a:b] )\n",
    "        \n",
    "    test_loss , test_cls_accuracy , test_ner_accuracy = evaluate( test_input_ids , test_attention_mask , test_intents , encoded_test_labels )\n",
    "\n",
    "    print('@ epoch %2d , @ batch %2d\\n train_loss = %.5f | train_cls_accuracy %.5f | train_ner_accuracy %.5f\\n test_loss = %.5f | test_cls_accuracy %.5f | test_ner_accuracy %.5f'\\\n",
    "          %(i+1 , j+1 ,train_loss , train_cls_accuracy , train_ner_accuracy , test_loss , test_cls_accuracy , test_ner_accuracy))\n",
    "\n",
    "    with open('save.csv','a') as f:\n",
    "        f.write( str(( i+1 ,train_loss , train_cls_accuracy , train_ner_accuracy , test_loss , test_cls_accuracy , test_ner_accuracy))[1:-1] +'\\n' )\n",
    "        \n"
   ]
  },
  {
   "cell_type": "code",
   "execution_count": null,
   "metadata": {
    "colab": {
     "background_save": true
    },
    "id": "WZGOjlgIHmBl",
    "outputId": "7e4c6b4a-5b2c-4cad-db5f-46d7df4bb402"
   },
   "outputs": [
    {
     "name": "stdout",
     "output_type": "stream",
     "text": [
      "INFO:tensorflow:Assets written to: /content/drive/My Drive/AAI/models/gru_model/assets\n"
     ]
    }
   ],
   "source": [
    "\n",
    "gru_model.save('/content/drive/My Drive/AAI/models/gru_model')\n",
    "gru_model.save('/content/drive/My Drive/AAI/models/gru_model.h5')\n"
   ]
  },
  {
   "cell_type": "code",
   "execution_count": null,
   "metadata": {
    "id": "OQgPuZVRSbQn"
   },
   "outputs": [],
   "source": [
    "\n",
    "with open('/content/drive/My Drive/AAI/models/crf_transition_params' , 'wb') as f:\n",
    "    pickle.dump(transition_params , f)\n",
    "    "
   ]
  },
  {
   "cell_type": "markdown",
   "metadata": {
    "id": "f6e3baWd52r8"
   },
   "source": [
    "## Results"
   ]
  },
  {
   "cell_type": "markdown",
   "metadata": {
    "id": "-kDgjcnvIisv"
   },
   "source": [
    "NOTE: You can find code by code explaination for this section in inference notebook"
   ]
  },
  {
   "cell_type": "code",
   "execution_count": null,
   "metadata": {
    "id": "DkE7DSWdgSPb"
   },
   "outputs": [],
   "source": [
    "\n",
    "unique_intents =  np.array( bag_of_words.get_feature_names() )\n",
    "id2tag = { 0 : 'o' , 1 : 's-id', 2 : 'e-id', 3 : 's-product', 4 : 'e-product' , 5 : 'na' }\n",
    "\n",
    "def gru_model_out( text ):\n",
    "\n",
    "    intent_predictions = []\n",
    "\n",
    "    ner_predictions = []\n",
    "\n",
    "    word_vectors = []\n",
    "\n",
    "\n",
    "    text = [text.split(' ')]\n",
    "    encoding = tokenizer(text , is_pretokenized = True , return_offsets_mapping=True , padding='max_length' , truncation=True , max_length=50)\n",
    "\n",
    "    input_ids = np.array(encoding.input_ids)\n",
    "    attention_mask = np.array(encoding.attention_mask)\n",
    "    offset_mapping = encoding.offset_mapping\n",
    "\n",
    "    cls , sentence , vectors = gru_model(input_ids)\n",
    "    sentence_vector = vectors[0,0,:]\n",
    "\n",
    "    intent_predictions = unique_intents[tf.math.argmax(cls , axis = 1).numpy()][0] \n",
    "\n",
    "    target_sentence = viterbi_decode( sentence[0] , transition_params )[0]\n",
    "\n",
    "    te1 = np.array([i for i,j in offset_mapping[0]]) > 0\n",
    "    te2 = np.roll( te1 , 1 )\n",
    "    starts = te1 & ~te2\n",
    "    ends = ~te1 & te2\n",
    "    starts = np.nonzero(starts)[0]\n",
    "    ends = np.nonzero(ends)[0]\n",
    "    start_end = dict(zip(starts,ends))\n",
    "\n",
    "    k = 1\n",
    "    for i in text[0]:\n",
    "\n",
    "        if k in start_end.keys():\n",
    "\n",
    "            ner = target_sentence[ k-1 ]\n",
    "            ner = id2tag[ner]\n",
    "            ner_predictions.append(ner)\n",
    "\n",
    "            word_vector = tf.reduce_mean(vectors[0 , k:start_end[k] , : ] , axis = 0)               \n",
    "            word_vectors.append(word_vector)\n",
    "\n",
    "            k = start_end[k]\n",
    "            \n",
    "\n",
    "        else:\n",
    "\n",
    "            ner = target_sentence[ k-1 ]\n",
    "            ner = id2tag[ner]\n",
    "            ner_predictions.append(ner)\n",
    "\n",
    "            word_vector = vectors[0 , k , :]\n",
    "            word_vectors.append(word_vector)\n",
    "\n",
    "            k += 1\n",
    "\n",
    "    return intent_predictions , ner_predictions , word_vectors , sentence_vector\n"
   ]
  },
  {
   "cell_type": "code",
   "execution_count": null,
   "metadata": {
    "colab": {
     "base_uri": "https://localhost:8080/"
    },
    "id": "vGnend1mYgpx",
    "outputId": "665a795a-b7ed-4177-c582-fbaf4bf081f6"
   },
   "outputs": [
    {
     "name": "stdout",
     "output_type": "stream",
     "text": [
      "transactions_intent \n",
      "\n",
      "['o', 'o', 'o', 'o', 'o', 's-product'] \n",
      "\n",
      "[TensorShape([300]), TensorShape([300]), TensorShape([300]), TensorShape([300]), TensorShape([300]), TensorShape([300])] \n",
      "\n",
      "(300,) \n",
      "\n"
     ]
    },
    {
     "name": "stderr",
     "output_type": "stream",
     "text": [
      "/usr/local/lib/python3.6/dist-packages/transformers/tokenization_utils_fast.py:353: FutureWarning: `is_pretokenized` is deprecated and will be removed in a future version, use `is_split_into_words` instead.\n",
      "  FutureWarning,\n"
     ]
    }
   ],
   "source": [
    "\n",
    "intent_predictions , ner_predictions , word_vectors , sentence_vector = gru_model_out('pay ravikanth using my credit card')\n",
    "\n",
    "print(intent_predictions ,'\\n')\n",
    "print(ner_predictions ,'\\n') \n",
    "print([i.shape for i in word_vectors] ,'\\n')\n",
    "print(sentence_vector.shape,'\\n')\n"
   ]
  },
  {
   "cell_type": "markdown",
   "metadata": {
    "id": "4Gr2hxJl0ZHu"
   },
   "source": [
    "## Performance metrics"
   ]
  },
  {
   "cell_type": "code",
   "execution_count": null,
   "metadata": {
    "colab": {
     "base_uri": "https://localhost:8080/",
     "height": 334
    },
    "id": "eLUJpFIacamU",
    "outputId": "53cec774-34c7-4227-c554-f0fd1725a618"
   },
   "outputs": [
    {
     "data": {
      "image/png": "[encoded data removed]",
      "text/plain": [
       "<Figure size 1080x360 with 2 Axes>"
      ]
     },
     "metadata": {
      "tags": []
     },
     "output_type": "display_data"
    }
   ],
   "source": [
    "\n",
    "performance_data = pd.read_csv('save.csv')\n",
    "performance_data = performance_data[6:]\n",
    "plt.figure(facecolor='beige' , figsize=(15,5))\n",
    "\n",
    "plt.subplot(121)\n",
    "plt.xlabel('epochs') ; plt.ylabel('loss')\n",
    "plt.plot(performance_data['epoch'] , performance_data['train_loss'] , color='#EF3220' , label='train_loss' )\n",
    "plt.plot(performance_data['epoch'] , performance_data['test_loss'] , color='#F38E16' , label='test_loss' )\n",
    "plt.legend()\n",
    "\n",
    "plt.subplot(122)\n",
    "plt.xlabel('epochs') ; plt.ylabel('accuracy')\n",
    "plt.plot(performance_data['epoch'] , performance_data['cls_train_acc'] , color='#048402' , label='cls_train_acc' )\n",
    "plt.plot(performance_data['epoch'] , performance_data['cls_test_acc'] , color='#75ED65' , label='cls_test_acc' )\n",
    "plt.plot(performance_data['epoch'] , performance_data['ner_train_acc'] , color='#0507BE' , label='ner_train_acc' )\n",
    "plt.plot(performance_data['epoch'] , performance_data['ner_test_acc'] , color='#07B4FF' , label='ner_test_acc' )\n",
    "plt.legend()\n",
    "\n",
    "plt.show()\n"
   ]
  },
  {
   "cell_type": "code",
   "execution_count": null,
   "metadata": {
    "colab": {
     "base_uri": "https://localhost:8080/",
     "height": 452
    },
    "id": "Luv4xvYF9AMO",
    "outputId": "e3c9ab3e-7ee0-4326-aa36-3e0bba2cffed"
   },
   "outputs": [
    {
     "data": {
      "image/png": "[encoded data removed]",
      "text/plain": [
       "<Figure size 576x360 with 2 Axes>"
      ]
     },
     "metadata": {
      "tags": []
     },
     "output_type": "display_data"
    }
   ],
   "source": [
    "\n",
    "cls , sentence , vectors = gru_model(test_input_ids)\n",
    "pred_intents = tf.math.argmax(cls , axis = 1).numpy()\n",
    "intent_actual = tf.math.argmax(test_intents , axis = 1).numpy()\n",
    "\n",
    "gru_mat_intents = confusion_matrix(intent_actual, pred_intents , labels=[0,1,2,3,4,5,6,7] )\n",
    "\n",
    "plt.figure(facecolor='#A6CAF5' , figsize=(8,5))\n",
    "ax = sns.heatmap(gru_mat_intents ,robust=True , annot=True , \n",
    "                 xticklabels = bag_of_words.get_feature_names() , \n",
    "                 yticklabels = bag_of_words.get_feature_names())\n",
    "ax.set(xlabel='true labels', ylabel='predicted labels')\n",
    "plt.show()\n"
   ]
  },
  {
   "cell_type": "code",
   "execution_count": null,
   "metadata": {
    "colab": {
     "base_uri": "https://localhost:8080/",
     "height": 388
    },
    "id": "jRdZS1_L9OfD",
    "outputId": "ec86c44c-196f-44e2-c58e-ac750b90b1c6"
   },
   "outputs": [
    {
     "name": "stderr",
     "output_type": "stream",
     "text": [
      "/usr/local/lib/python3.6/dist-packages/transformers/tokenization_utils_fast.py:353: FutureWarning: `is_pretokenized` is deprecated and will be removed in a future version, use `is_split_into_words` instead.\n",
      "  FutureWarning,\n"
     ]
    },
    {
     "data": {
      "image/png": "[encoded data removed]",
      "text/plain": [
       "<Figure size 576x360 with 2 Axes>"
      ]
     },
     "metadata": {
      "tags": []
     },
     "output_type": "display_data"
    }
   ],
   "source": [
    "\n",
    "pred_ner = []\n",
    "ner_actual = []\n",
    "\n",
    "for i,j in zip(test_text_og , test_labels):\n",
    "\n",
    "    pred_ner += gru_model_out(' '.join(i))[1]\n",
    "    ner_actual += j \n",
    "\n",
    "gru_ner_intents = confusion_matrix(ner_actual, pred_ner , labels = list(id2tag.values()))\n",
    "\n",
    "plt.figure(facecolor='#A6CAF5' , figsize=(8,5))\n",
    "ax = sns.heatmap(gru_ner_intents ,robust=True , annot=True , \n",
    "                 xticklabels = list(id2tag.values()) , \n",
    "                 yticklabels = list(id2tag.values()))\n",
    "ax.set(xlabel='true labels', ylabel='predicted labels')\n",
    "plt.show()\n"
   ]
  },
  {
   "cell_type": "code",
   "execution_count": null,
   "metadata": {
    "colab": {
     "base_uri": "https://localhost:8080/",
     "height": 88
    },
    "id": "Y2zbqh6oYzCH",
    "outputId": "7c286fdb-de9e-46e0-b082-fa926d53dd08"
   },
   "outputs": [
    {
     "name": "stderr",
     "output_type": "stream",
     "text": [
      "/usr/local/lib/python3.6/dist-packages/transformers/tokenization_utils_fast.py:353: FutureWarning: `is_pretokenized` is deprecated and will be removed in a future version, use `is_split_into_words` instead.\n",
      "  FutureWarning,\n"
     ]
    },
    {
     "name": "stdout",
     "output_type": "stream",
     "text": [
      "19\n"
     ]
    }
   ],
   "source": [
    "\n",
    "start = time.time()\n",
    "count = 0\n",
    "elapsed = 0\n",
    "\n",
    "while elapsed < 1:\n",
    "    count += 1 \n",
    "    a,b,c,d = gru_model_out('pay ravikanth using my credit card')\n",
    "    elapsed = time.time() - start\n",
    "\n",
    "print(count)\n"
   ]
  }
 ],
 "metadata": {
  "accelerator": "GPU",
  "colab": {
   "collapsed_sections": [
    "3NF310b-8QQX",
    "i3bo5Ve03mAj",
    "Maz6IJ194LOu",
    "wON7vc8a3r7R",
    "FQoSgOQgM26x",
    "PE8eMLTuSqTN",
    "q7wZgaXlAmdI",
    "Hu1VRG0a5Uvp",
    "Y6Q6llk2RbPB",
    "vGtJIzeSAbJw",
    "UnjsBJj7mg9y",
    "fINs1HTUgjN3",
    "4Duiot655ea3",
    "N30qE7eZ5nVk",
    "f6e3baWd52r8",
    "4Gr2hxJl0ZHu"
   ],
   "name": "intent classification & ner.ipynb",
   "provenance": []
  },
  "kernelspec": {
   "display_name": "Python 3",
   "language": "python",
   "name": "python3"
  },
  "language_info": {
   "codemirror_mode": {
    "name": "ipython",
    "version": 3
   },
   "file_extension": ".py",
   "mimetype": "text/x-python",
   "name": "python",
   "nbconvert_exporter": "python",
   "pygments_lexer": "ipython3",
   "version": "3.7.3"
  }
 },
 "nbformat": 4,
 "nbformat_minor": 1
}
