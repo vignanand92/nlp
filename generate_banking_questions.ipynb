{
 "cells": [
  {
   "cell_type": "markdown",
   "metadata": {},
   "source": [
    "# Imports"
   ]
  },
  {
   "cell_type": "code",
   "execution_count": null,
   "metadata": {},
   "outputs": [],
   "source": [
    "\n",
    "!pip install transformers\n",
    "from transformers import DistilBertTokenizerFast \n",
    "import numpy as np\n",
    "import pandas as pd\n",
    "import pickle\n"
   ]
  },
  {
   "cell_type": "markdown",
   "metadata": {
    "id": "xMcbjjDeD9X2"
   },
   "source": [
    "# Intent = greetings"
   ]
  },
  {
   "cell_type": "code",
   "execution_count": null,
   "metadata": {
    "id": "NJE9JbhYCMqH"
   },
   "outputs": [],
   "source": [
    "\n",
    "from tqdm.auto import tqdm\n",
    "\n",
    "# below are some common names, surnames and other identities stored by an account holder to transfer money\n",
    "first_names = ['priya' , 'tanya' , 'priyanka' , 'divya' , 'tanvi' , 'ishita' , 'vani' , 'anjali' , 'shreya' , 'riya' , 'rohan' , 'mayur' ,\n",
    "               'rahul' , 'abhishek' , 'aditya' , 'amit' , 'mahesh' , 'rohit' , 'yash' , 'ankit' , 'shyam' , 'deepak' , 'vivek' ]\n",
    "last_names = ['thakur' , 'singh' , 'reddy' , 'das' , 'kaur' , 'anand' , 'yadav' , 'lal' , 'patel' , 'shinde' , '' , '' , '' ]\n",
    "other_identities = [ 'bank' , 'milk' , 'grocery' , 'vegetables' , 'business' , 'hospital' , 'food' , 'school' , 'college' , 'service' , \n",
    "                    'education' , 'medicines' , 'repair' , 'electricity'] \n",
    "\n",
    "# randomly generating identity from above lists\n",
    "def identity_generator( n , name_share = 0.5 ):\n",
    "\n",
    "    identity = []\n",
    "    for i in range(int(name_share*n)):\n",
    "        te = np.random.choice(last_names , 1)[0]\n",
    "        if te == '':\n",
    "            identity.append(np.random.choice(first_names , 1)[0])\n",
    "        else:\n",
    "            identity.append(np.random.choice(first_names , 1)[0] + ' ' + te)\n",
    "\n",
    "    for i in range(int((1-name_share)*n)):\n",
    "        identity.append(np.random.choice(other_identities , 1)[0])\n",
    "    \n",
    "    return identity\n",
    "\n",
    "\n",
    "\n",
    "def expand_questions( sentences , named_entities , ner):\n",
    "    \n",
    "    '''works for entities of 1 or 2 word length, edit marked code for more types of enitities'''\n",
    "\n",
    "    iters = 1\n",
    "    for i in named_entities.values():\n",
    "        iters *= len(i)\n",
    "\n",
    "    updated_sentences = []\n",
    "    tags = []\n",
    "    for i in sentences:\n",
    "       \n",
    "        check = 0\n",
    "        for j in named_entities.keys():\n",
    "            if j in i:\n",
    "                check += 1\n",
    "\n",
    "        if check == 0:\n",
    "\n",
    "            te1 = []\n",
    "            te2 = []\n",
    "            for j in i.split(' '):\n",
    "                te1.append(j)\n",
    "                te2.append('o')\n",
    "\n",
    "            updated_sentences.append(te1)\n",
    "            tags.append(te2)\n",
    "        \n",
    "        else:\n",
    "\n",
    "            for iteration in range(iters):\n",
    "\n",
    "                te1 = []\n",
    "                te2 = []\n",
    "                for j in i.split(' '):\n",
    "\n",
    "                    if j[0] == '#':\n",
    "                        ent = np.random.choice( named_entities[j] )\n",
    "\n",
    "                        # Edit this part to support more word length\n",
    "                        for l,k in enumerate(ent.split(' ')):\n",
    "                            te1.append(k)\n",
    "                            te2.append( ner.get( j , ['o']*10 )[l] )\n",
    "                        # Uptill here \n",
    "                    \n",
    "                    else:\n",
    "                        te1.append(j)\n",
    "                        te2.append('o')\n",
    "                        \n",
    "                updated_sentences.append(te1)\n",
    "                tags.append(te2)\n",
    "    \n",
    "    return updated_sentences , tags\n",
    "\n",
    "\n",
    "#################################################################################################################################\n",
    "\n",
    "\n",
    "greetings = [\n",
    "             \n",
    "'good morning' , 'good evening' , \n",
    "'hi' , 'hey' , 'hello' , 'hi there' , 'hey there' , 'hello there' ,\n",
    "'hello are you still there' , 'hello its #identity' # the '#identity' in this string will get expanded by function - 'expand_questions'\n",
    "\n",
    "] \n",
    "\n"
   ]
  },
  {
   "cell_type": "code",
   "execution_count": null,
   "metadata": {
    "id": "5VBJYddUXe05"
   },
   "outputs": [],
   "source": [
    "\n",
    "identity = identity_generator(50 , name_share = 1)\n",
    "named_entities = {'#identity' : identity}\n",
    "ner = {'#identity' : ('s-id','e-id')}\n",
    "greetings , greetings_tags = expand_questions( greetings , named_entities , ner)\n",
    "greetings_intent = ['greetings']*len(greetings)\n"
   ]
  },
  {
   "cell_type": "code",
   "execution_count": null,
   "metadata": {
    "colab": {
     "base_uri": "https://localhost:8080/",
     "height": 102
    },
    "id": "T3TQxFNiHayB",
    "outputId": "bccb9ecd-8451-402c-deaf-e00c33ce6f75"
   },
   "outputs": [
    {
     "data": {
      "text/plain": [
       "[['hello', 'its', 'deepak', 'thakur'],\n",
       " ['hello', 'its', 'anjali', 'anand'],\n",
       " ['hello', 'its', 'abhishek', 'shinde'],\n",
       " ['hello', 'its', 'tanvi', 'shinde'],\n",
       " ['hello', 'its', 'anjali', 'patel']]"
      ]
     },
     "execution_count": 4,
     "metadata": {
      "tags": []
     },
     "output_type": "execute_result"
    }
   ],
   "source": [
    "greetings[40:45]"
   ]
  },
  {
   "cell_type": "code",
   "execution_count": null,
   "metadata": {
    "colab": {
     "base_uri": "https://localhost:8080/",
     "height": 102
    },
    "id": "D-RIQbMFH7Zd",
    "outputId": "9a6f0d0c-f194-4efd-c812-aa942cdf439f"
   },
   "outputs": [
    {
     "data": {
      "text/plain": [
       "[['o', 'o', 's-id', 'e-id'],\n",
       " ['o', 'o', 's-id', 'e-id'],\n",
       " ['o', 'o', 's-id', 'e-id'],\n",
       " ['o', 'o', 's-id', 'e-id'],\n",
       " ['o', 'o', 's-id', 'e-id']]"
      ]
     },
     "execution_count": 5,
     "metadata": {
      "tags": []
     },
     "output_type": "execute_result"
    }
   ],
   "source": [
    "\n",
    "# link about entity marking conventions\n",
    "# https://en.wikipedia.org/wiki/Inside%E2%80%93outside%E2%80%93beginning_(tagging)\n",
    "greetings_tags[40:45]\n"
   ]
  },
  {
   "cell_type": "markdown",
   "metadata": {
    "id": "FOonOS1saJoi"
   },
   "source": [
    "# Intent = bank_related"
   ]
  },
  {
   "cell_type": "code",
   "execution_count": null,
   "metadata": {
    "id": "WgSuWxSUSJDV"
   },
   "outputs": [],
   "source": [
    "\n",
    "debt_instruments = [ 'vehicle loan' , 'business loan' , 'personal loan' , 'loan' , 'education loan' , 'medical loan' , 'mortgage']\n",
    "credit_cards = ['silver card' , 'gold card' , 'platinum card' , 'credit card' ]\n",
    "\n",
    "bank_related = [\n",
    "\n",
    "# Open a new account \n",
    "'open an account at fake bank',\n",
    "'open a new account with chatbot',\n",
    "'sign up for an account',\n",
    "'sign up',\n",
    "'open account',\n",
    "\n",
    "# Log in\n",
    "'log into my account',\n",
    "'sign into my account',\n",
    "'login',\n",
    "'sign in',\n",
    "\n",
    "# Add beneficiary \n",
    "'add #identity as benefeciary',\n",
    "'add #identity to benefeciary list',\n",
    "'add #identity to account',\n",
    "\n",
    "# Edit beneficiary \n",
    "'edit beneficiary name for #identity',\n",
    "'edit #identity name',\n",
    "'change beneficiary name from #identity',\n",
    "'change this name from #identity to',\n",
    "\n",
    "# Remove beneficiary \n",
    "'remove #identity from beneficiaries list',\n",
    "'remove #identity',\n",
    "'remove a beneficiary #identity from beneficiaries',       \n",
    "\n",
    "# Apply for bank products\n",
    "'get a new #debt_instruments',\n",
    "'get a new #credit_cards',\n",
    "'apply for #credit_cards',\n",
    "'apply for #debt_instruments',\n",
    "\n",
    "# Discontinue credit cards\n",
    "'discontinue #credit_cards services',\n",
    "'remove #credit_cards services',\n",
    "'discontinue #credit_cards',\n",
    "\n",
    "# Close account\n",
    "'delete my account',\n",
    "'close my account',\n",
    "\n",
    "# Forgot account details\n",
    "'forgot username',\n",
    "'forgot account no',\n",
    "'forgot password what to do',\n",
    "'i do not remember my account no',\n",
    "'i do not remember my password',\n",
    "\n",
    "]\n",
    "\n"
   ]
  },
  {
   "cell_type": "code",
   "execution_count": null,
   "metadata": {
    "id": "FMMi640iBEeM"
   },
   "outputs": [],
   "source": [
    "\n",
    "identity = identity_generator(50 , name_share = 0.6)\n",
    "named_entities = {'#identity' : identity , '#debt_instruments' : debt_instruments , '#credit_cards' : credit_cards}\n",
    "ner = {'#identity' : ('s-id','e-id') , '#debt_instruments' : ('s-product','e-product') , '#credit_cards' : ('s-product','e-product')}\n",
    "bank_related , bank_related_tags = expand_questions( bank_related , named_entities , ner)\n",
    "bank_related_intent = ['bank_related']*len(bank_related)\n"
   ]
  },
  {
   "cell_type": "markdown",
   "metadata": {
    "id": "5_BWtE3xvxVr"
   },
   "source": [
    "# Intent = transactions"
   ]
  },
  {
   "cell_type": "code",
   "execution_count": null,
   "metadata": {
    "id": "AXXWhcGBvwik"
   },
   "outputs": [],
   "source": [
    "\n",
    "emi = ['emi' , 'monthly installments' , 'installments this year' , 'interest' ]\n",
    "\n",
    "transactions = [\n",
    "               \n",
    "# Pay beneficiary / friend / other identities\n",
    "'pay #identity 2500',\n",
    "'send 85445 to #identity',\n",
    "'give #identity 589',\n",
    "'please send 55785 to #identity',\n",
    "'pay #identity 5000 using #credit_cards',\n",
    "'send 7999 to #identity using #credit_cards',\n",
    "'give #identity 89900 using #credit_cards',\n",
    "'please send 800 to #identity using #credit_cards',\n",
    "\n",
    "# Pay bank\n",
    "'pay #emi due',\n",
    "'pay #debt_instruments due',\n",
    "'pay #credit_cards due',\n",
    "'pay my #emi',\n",
    "'pay my #debt_instruments bill',\n",
    "'pay my #credit_cards bill',\n",
    "\n",
    "# Use credit card to pay other debts\n",
    "'pay #emi due using #credit_cards',\n",
    "'pay #debt_instruments due using #credit_cards',\n",
    "\n",
    "]\n",
    "\n"
   ]
  },
  {
   "cell_type": "code",
   "execution_count": null,
   "metadata": {
    "id": "yfxIfSoWU2HP"
   },
   "outputs": [],
   "source": [
    "\n",
    "identity = identity_generator(30 , name_share = 0.6)\n",
    "named_entities = {'#identity' : identity , '#debt_instruments' : debt_instruments , '#credit_cards' : credit_cards , '#emi' : emi}\n",
    "ner = {'#identity' : ('s-id','e-id') , '#debt_instruments' : ('s-product','e-product') , '#credit_cards' : ('s-product','e-product') }\n",
    "transactions , transactions_tags = expand_questions( transactions , named_entities , ner)\n",
    "transactions_intent =  ['transactions_intent']*len(transactions)\n"
   ]
  },
  {
   "cell_type": "markdown",
   "metadata": {
    "id": "BxE8R3X1MINq"
   },
   "source": [
    "# Intent = analyze_transactions"
   ]
  },
  {
   "cell_type": "code",
   "execution_count": null,
   "metadata": {
    "id": "EqjO9vgYMb5a"
   },
   "outputs": [],
   "source": [
    "\n",
    "bills = [ 'bank fees' , 'credit card bills', 'electricity bills' , 'hospital bills' , 'education fees' , 'medicine bills' , 'repair charges'] \n",
    "time_period = ['in past 2 months' , 'in past 6 days' , 'in past week' ,  'yesterday' , 'today' ]\n",
    "\n",
    "\n",
    "analyze_transactions = [\n",
    "                       \n",
    "# Deposit type transactions\n",
    "'when was the last time money was deposited',\n",
    "'how much money was credited to my account #time_period',\n",
    "'how much money amount went into my account #time_period',\n",
    "'how much money amount put into my account #time_period',\n",
    "'how much money amount #identity sent me #time_period',\n",
    "'how much money amount #identity paid me #time_period',\n",
    "'how much was deposited to my account #time_period',\n",
    "'money amount received from #identity #time_period',\n",
    "'show total amount of deposits #time_period',\n",
    "'check total amount of deposits #time_period',\n",
    "\n",
    "# Withdrawal type transactions\n",
    "'when was the last time money was withdrawn'\n",
    "'how much money was debited from account #time_period',\n",
    "'how much money amount went out of my account #time_period',\n",
    "'how much money amount was paid to #identity #time_period',\n",
    "'how much money amount was sent to #identity #time_period',\n",
    "'#bills paid #time_period',\n",
    "'show total money amount of withdrawals #time_period',\n",
    "'show total money amount of deductions #time_period',\n",
    "'show total expense #time_period',\n",
    "'show total spendings #time_period',\n",
    "'check total money amount of withdrawals #time_period',\n",
    "'check total money amount of deductions #time_period',\n",
    "'check total spendings #time_period',\n",
    "'how much money was withdrawn from my account #time_period',\n",
    "'how much money was taken out of my account #time_period',\n",
    "'how much money was cut from my account #time_period',\n",
    "\n",
    "# Sent and received breakdown \n",
    "'how much money was transacted from my account #time_period',\n",
    "'transactions between me and #identity #time_period',\n",
    "'get transactions breakdown #time_period',\n",
    "'show total money amount of transactions #time_period',\n",
    "'check total money amount of transactions #time_period',\n",
    "\n",
    "# Credit card breakdowns\n",
    "'when did i use my #credit_cards last time',\n",
    "'show total spendings using #credit_cards #time_period',\n",
    "'how much cashbacks i received using #credit_cards #time_period',\n",
    "\n",
    "]\n"
   ]
  },
  {
   "cell_type": "code",
   "execution_count": null,
   "metadata": {
    "id": "tfaWEci2Z20X"
   },
   "outputs": [],
   "source": [
    "\n",
    "identity = identity_generator(50 , name_share = 0.35)\n",
    "named_entities = {'#identity' : identity , '#credit_cards' : credit_cards  , '#bills' : bills , '#time_period' : time_period}\n",
    "ner = {'#identity' : ('s-id','e-id') , '#credit_cards' : ('s-product','e-product') }\n",
    "analyze_transactions , analyze_transactions_tags = expand_questions( analyze_transactions , named_entities , ner)\n",
    "analyze_transactions_intent =  ['analyze_transactions']*len(analyze_transactions)\n"
   ]
  },
  {
   "cell_type": "markdown",
   "metadata": {
    "id": "dOTnL0gjt3nR"
   },
   "source": [
    "# Intent = balances"
   ]
  },
  {
   "cell_type": "code",
   "execution_count": null,
   "metadata": {
    "id": "zagXD840t-E0"
   },
   "outputs": [],
   "source": [
    "\n",
    "\n",
    "balances = [\n",
    "\n",
    "# Check account balance            \n",
    "'what is my account balance',\n",
    "'can you tell me how much money is left in my account',\n",
    "'what is the left in my account',\n",
    "'check balance for account',\n",
    "'show account balance',\n",
    "'tell me my account balance',\n",
    "\n",
    "# Check credit card balance \n",
    "'how much more can i spend using my #credit_cards',\n",
    "'credit balance remaining in #credit_cards',\n",
    "'what limit of my #credit_cards is exhausted',\n",
    "'what is my #credit_cards limit', #tips and tricks\n",
    "\n",
    "# Check debt balances (3 types of questions clubbed together)\n",
    "'check #debt_instruments remaining amount',\n",
    "'show principal remaining on #debt_instruments',\n",
    "'principal amount left on my #debt_instruments',\n",
    "'principal yet to be returned on my #debt_instruments',\n",
    "'total amount yet to be paid for my #debt_instruments',\n",
    "\n",
    "'check #debt_instruments repaid amount',\n",
    "'show principal returned from #debt_instruments',\n",
    "'principal amount paid on my #debt_instruments till now',\n",
    "\n",
    "'what was my initial #debt_instruments amount',\n",
    "'what was my initial principal amount',\n",
    "'how much was my initial #debt_instruments amount',\n",
    "'what was my original principal amount',\n",
    "\n",
    "]\n",
    "\n"
   ]
  },
  {
   "cell_type": "code",
   "execution_count": null,
   "metadata": {
    "id": "U3a5JcUdbyme"
   },
   "outputs": [],
   "source": [
    "\n",
    "named_entities = {'#debt_instruments' : debt_instruments , '#credit_cards' : credit_cards}\n",
    "ner = {'#debt_instruments' : ('s-product','e-product') , '#credit_cards' : ('s-product','e-product') }\n",
    "balances , balances_tags = expand_questions( balances , named_entities , ner)\n",
    "balances_intent =  ['balances']*len(balances)\n"
   ]
  },
  {
   "cell_type": "markdown",
   "metadata": {
    "id": "8e9U0qRz3ePm"
   },
   "source": [
    "# Intent = check_loan_details"
   ]
  },
  {
   "cell_type": "code",
   "execution_count": null,
   "metadata": {
    "id": "GjGy8aHgZMTG"
   },
   "outputs": [],
   "source": [
    "\n",
    "check_loan_details = [\n",
    "\n",
    "# Loan emi details\n",
    "'#debt_instruments #emi',\n",
    "'how much #debt_instruments #emi i need to pay',\n",
    "'#emi due i need to pay this month for #debt_instruments',\n",
    "'what is the #emi due for this month',\n",
    "'show monthly #emi for #debt_instruments',\n",
    "'what is my #debt_instruments dues',\n",
    "\n",
    "# Due date for loan\n",
    "'what is the due date of #emi payment for #debt_instruments',\n",
    "'what is the last date of #emi payment for #debt_instruments',\n",
    "'no of remaining days for #emi payment for #debt_instruments',\n",
    "'last date of #debt_instruments payment',\n",
    "'next due date of #emi payment for #debt_instruments',\n",
    "'next repayment date of #emi payment for #debt_instruments',\n",
    "'when will my #emi for #debt_instruments get deducted',\n",
    "\n",
    "# Maturity date\n",
    "'time left on my #debt_instruments',\n",
    "'how many years left for #debt_instruments', \n",
    "'months left on #debt_instruments', \n",
    "'duration of my #debt_instruments',\n",
    "'my #debt_instruments tenure',\n",
    "'when is my #debt_instruments ending',\n",
    "\n",
    "# General loan related questions\n",
    "'what are the different type of loans available', \n",
    "'what can i use a #debt_instruments for',\n",
    "'how is the maximum #debt_instruments amount decided',\n",
    "'what is the tenure of a #debt_instruments',\n",
    "'what are the documents required when applying for a #debt_instruments',\n",
    "'what are the interest rates for #debt_instruments',\n",
    "'how much interest is charged for #debt_instruments',\n",
    "'what are possible collaterals for #debt_instruments',\n",
    "'what will be kept in banks possesion in exchange for #debt_instruments',\n",
    "\n",
    "]\n"
   ]
  },
  {
   "cell_type": "code",
   "execution_count": null,
   "metadata": {
    "id": "7iOAxylJtUbh"
   },
   "outputs": [],
   "source": [
    "\n",
    "named_entities = {'#debt_instruments' : debt_instruments , '#emi' : emi}\n",
    "ner = {'#debt_instruments' : ('s-product','e-product') }\n",
    "check_loan_details , check_loan_details_tags = expand_questions( check_loan_details , named_entities , ner )\n",
    "check_loan_details_intent =  ['check_loan_details']*len(check_loan_details)\n"
   ]
  },
  {
   "cell_type": "markdown",
   "metadata": {
    "id": "EvkhUgavLKlb"
   },
   "source": [
    "# Intent = check_credit_card_details"
   ]
  },
  {
   "cell_type": "code",
   "execution_count": null,
   "metadata": {
    "id": "y0LRs6YJISFv"
   },
   "outputs": [],
   "source": [
    "\n",
    "check_credit_card_details = [\n",
    "\n",
    "# Credit card bill\n",
    "'what is my #credit_cards bill this month',\n",
    "'show #credit_cards bill this month',\n",
    "'display #credit_cards bill this month',\n",
    "'what are my #credit_cards dues', \n",
    "'what is my #credit_cards installment this month',\n",
    "'show #credit_cards installment this month',\n",
    "'#credit_cards installment',\n",
    "\n",
    "# Offers\n",
    "'#credit_cards offers available for #identity',\n",
    "'#credit_cards any discounts for #identity',\n",
    "'#credit_cards promos available for #identity',\n",
    "'any #credit_cards promotions for #identity',\n",
    "'what type of benefits can #credit_cards provide',\n",
    "\n",
    "# Limit related questions                     \n",
    "'what is my maximum limit for #credit_cards',\n",
    "'#credit_cards allowed expense on credit',\n",
    "'is my #credit_cards over limit',\n",
    "'has my #credit_cards limit reached',\n",
    "\n",
    "# Interest rate\n",
    "'what is my #credit_cards interest rate',\n",
    "'what is interest rate for #credit_cards',\n",
    "'show #credit_cards interest rate',\n",
    "\n",
    "# General questions \n",
    "'what is a credit card',\n",
    "'please explain about credit card',\n",
    "'how does a credit card differ from a debit card',\n",
    "'how much will be my next bill if i dont pay this month',\n",
    "'what are the different types of credit card',\n",
    "'what is an annual fee for #credit_cards',\n",
    "'what are the charges of #credit_cards',\n",
    "'when will be emi installments money collected this month for #credit_cards',\n",
    "'how much interest rate is charged for #credit_cards',\n",
    "'what is payment due date for #credit_cards bills',\n",
    "'next repayment date for #credit_cards bills',\n",
    "\n",
    "]\n"
   ]
  },
  {
   "cell_type": "code",
   "execution_count": null,
   "metadata": {
    "id": "tMOylXYzuOnn"
   },
   "outputs": [],
   "source": [
    "\n",
    "identity = identity_generator(50 , name_share = 0.35)\n",
    "named_entities = {'#identity' : identity , '#credit_cards' : credit_cards}\n",
    "ner = {'#identity' : ('s-id','e-id') , '#credit_cards' : ('s-product','e-product') }\n",
    "check_credit_card_details , check_credit_card_details_tags = expand_questions( check_credit_card_details , named_entities , ner)\n",
    "check_credit_card_details_intent  =  ['check_credit_card_details']*len(check_credit_card_details)\n"
   ]
  },
  {
   "cell_type": "markdown",
   "metadata": {
    "id": "T1RBx6b0OtNW"
   },
   "source": [
    "# Intent = chatbot_related"
   ]
  },
  {
   "cell_type": "code",
   "execution_count": null,
   "metadata": {
    "id": "CdYB1lw0Or9T"
   },
   "outputs": [],
   "source": [
    "\n",
    "chatbot_related = [\n",
    "\n",
    "# Chatbot capabilities \n",
    "'what could be done with chatbot',     \n",
    "'what services can chatbot offer', \n",
    "'what is the scope of chatbot',\n",
    "'what can chatbot do',\n",
    "'what services can i use',\n",
    "'how to use the chatbot',\n",
    "'what are the features of the chatbot',\n",
    "\n",
    "\n",
    "# Chatbot tracking expenses\n",
    "'how can i keep track of money sent and received',\n",
    "'is it possible analyze spendings',\n",
    "'how can i keep track of transactions',\n",
    "'is it possible to keep track of money sent and received',\n",
    "'how can i analyze spendings',\n",
    "\n",
    "]\n"
   ]
  },
  {
   "cell_type": "code",
   "execution_count": null,
   "metadata": {
    "id": "xbSIzY1MywRl"
   },
   "outputs": [],
   "source": [
    "\n",
    "identity = identity_generator(50 , name_share = 0.35)\n",
    "named_entities = {}\n",
    "ner = {}\n",
    "chatbot_related , chatbot_related_tags = expand_questions( chatbot_related , named_entities , ner)\n",
    "chatbot_related_intent =  ['chatbot_related']*len(chatbot_related)\n"
   ]
  },
  {
   "cell_type": "markdown",
   "metadata": {
    "id": "a14XPXtOi6A4"
   },
   "source": [
    "# Final dataset"
   ]
  },
  {
   "cell_type": "code",
   "execution_count": null,
   "metadata": {
    "id": "TgvkcF-zxHlg"
   },
   "outputs": [],
   "source": [
    "\n",
    "sentences = greetings + bank_related + transactions + analyze_transactions + balances + check_loan_details + check_credit_card_details + chatbot_related\n",
    "\n",
    "labels = greetings_tags + bank_related_tags + transactions_tags + analyze_transactions_tags + balances_tags + \\\n",
    "         check_loan_details_tags + check_credit_card_details_tags + chatbot_related_tags\n",
    "\n",
    "intents = greetings_intent + bank_related_intent + transactions_intent + analyze_transactions_intent + \\\n",
    "          balances_intent + check_loan_details_intent + check_credit_card_details_intent + chatbot_related_intent\n"
   ]
  },
  {
   "cell_type": "code",
   "execution_count": null,
   "metadata": {
    "colab": {
     "base_uri": "https://localhost:8080/",
     "height": 419
    },
    "id": "NWSL8KPAkROk",
    "outputId": "fd903219-b00f-4a11-f76e-f478862f1e79"
   },
   "outputs": [
    {
     "data": {
      "text/html": [
       "<div>\n",
       "<style scoped>\n",
       "    .dataframe tbody tr th:only-of-type {\n",
       "        vertical-align: middle;\n",
       "    }\n",
       "\n",
       "    .dataframe tbody tr th {\n",
       "        vertical-align: top;\n",
       "    }\n",
       "\n",
       "    .dataframe thead th {\n",
       "        text-align: right;\n",
       "    }\n",
       "</style>\n",
       "<table border=\"1\" class=\"dataframe\">\n",
       "  <thead>\n",
       "    <tr style=\"text-align: right;\">\n",
       "      <th></th>\n",
       "      <th>sentences</th>\n",
       "      <th>labels</th>\n",
       "      <th>intents</th>\n",
       "    </tr>\n",
       "  </thead>\n",
       "  <tbody>\n",
       "    <tr>\n",
       "      <th>0</th>\n",
       "      <td>[good, morning]</td>\n",
       "      <td>[o, o]</td>\n",
       "      <td>greetings</td>\n",
       "    </tr>\n",
       "    <tr>\n",
       "      <th>1</th>\n",
       "      <td>[good, evening]</td>\n",
       "      <td>[o, o]</td>\n",
       "      <td>greetings</td>\n",
       "    </tr>\n",
       "    <tr>\n",
       "      <th>2</th>\n",
       "      <td>[hi]</td>\n",
       "      <td>[o]</td>\n",
       "      <td>greetings</td>\n",
       "    </tr>\n",
       "    <tr>\n",
       "      <th>3</th>\n",
       "      <td>[hey]</td>\n",
       "      <td>[o]</td>\n",
       "      <td>greetings</td>\n",
       "    </tr>\n",
       "    <tr>\n",
       "      <th>4</th>\n",
       "      <td>[hello]</td>\n",
       "      <td>[o]</td>\n",
       "      <td>greetings</td>\n",
       "    </tr>\n",
       "    <tr>\n",
       "      <th>...</th>\n",
       "      <td>...</td>\n",
       "      <td>...</td>\n",
       "      <td>...</td>\n",
       "    </tr>\n",
       "    <tr>\n",
       "      <th>303225</th>\n",
       "      <td>[how, can, i, keep, track, of, money, sent, an...</td>\n",
       "      <td>[o, o, o, o, o, o, o, o, o, o]</td>\n",
       "      <td>chatbot_related</td>\n",
       "    </tr>\n",
       "    <tr>\n",
       "      <th>303226</th>\n",
       "      <td>[is, it, possible, analyze, spendings]</td>\n",
       "      <td>[o, o, o, o, o]</td>\n",
       "      <td>chatbot_related</td>\n",
       "    </tr>\n",
       "    <tr>\n",
       "      <th>303227</th>\n",
       "      <td>[how, can, i, keep, track, of, transactions]</td>\n",
       "      <td>[o, o, o, o, o, o, o]</td>\n",
       "      <td>chatbot_related</td>\n",
       "    </tr>\n",
       "    <tr>\n",
       "      <th>303228</th>\n",
       "      <td>[is, it, possible, to, keep, track, of, money,...</td>\n",
       "      <td>[o, o, o, o, o, o, o, o, o, o, o]</td>\n",
       "      <td>chatbot_related</td>\n",
       "    </tr>\n",
       "    <tr>\n",
       "      <th>303229</th>\n",
       "      <td>[how, can, i, analyze, spendings]</td>\n",
       "      <td>[o, o, o, o, o]</td>\n",
       "      <td>chatbot_related</td>\n",
       "    </tr>\n",
       "  </tbody>\n",
       "</table>\n",
       "<p>303230 rows × 3 columns</p>\n",
       "</div>"
      ],
      "text/plain": [
       "                                                sentences  ...          intents\n",
       "0                                         [good, morning]  ...        greetings\n",
       "1                                         [good, evening]  ...        greetings\n",
       "2                                                    [hi]  ...        greetings\n",
       "3                                                   [hey]  ...        greetings\n",
       "4                                                 [hello]  ...        greetings\n",
       "...                                                   ...  ...              ...\n",
       "303225  [how, can, i, keep, track, of, money, sent, an...  ...  chatbot_related\n",
       "303226             [is, it, possible, analyze, spendings]  ...  chatbot_related\n",
       "303227       [how, can, i, keep, track, of, transactions]  ...  chatbot_related\n",
       "303228  [is, it, possible, to, keep, track, of, money,...  ...  chatbot_related\n",
       "303229                  [how, can, i, analyze, spendings]  ...  chatbot_related\n",
       "\n",
       "[303230 rows x 3 columns]"
      ]
     },
     "execution_count": 21,
     "metadata": {
      "tags": []
     },
     "output_type": "execute_result"
    }
   ],
   "source": [
    "\n",
    "temp = pd.DataFrame( {'sentences' : sentences , 'labels' : labels , 'intents' : intents} )\n",
    "temp\n"
   ]
  },
  {
   "cell_type": "code",
   "execution_count": null,
   "metadata": {
    "colab": {
     "base_uri": "https://localhost:8080/",
     "height": 419
    },
    "id": "5np8b-mDmE0-",
    "outputId": "16eaed63-1677-40db-8820-4f48303011f8"
   },
   "outputs": [
    {
     "data": {
      "text/html": [
       "<div>\n",
       "<style scoped>\n",
       "    .dataframe tbody tr th:only-of-type {\n",
       "        vertical-align: middle;\n",
       "    }\n",
       "\n",
       "    .dataframe tbody tr th {\n",
       "        vertical-align: top;\n",
       "    }\n",
       "\n",
       "    .dataframe thead th {\n",
       "        text-align: right;\n",
       "    }\n",
       "</style>\n",
       "<table border=\"1\" class=\"dataframe\">\n",
       "  <thead>\n",
       "    <tr style=\"text-align: right;\">\n",
       "      <th></th>\n",
       "      <th>sentences</th>\n",
       "      <th>labels</th>\n",
       "      <th>intents</th>\n",
       "    </tr>\n",
       "  </thead>\n",
       "  <tbody>\n",
       "    <tr>\n",
       "      <th>0</th>\n",
       "      <td>[good, morning]</td>\n",
       "      <td>[o, o]</td>\n",
       "      <td>greetings</td>\n",
       "    </tr>\n",
       "    <tr>\n",
       "      <th>1</th>\n",
       "      <td>[good, evening]</td>\n",
       "      <td>[o, o]</td>\n",
       "      <td>greetings</td>\n",
       "    </tr>\n",
       "    <tr>\n",
       "      <th>2</th>\n",
       "      <td>[hi]</td>\n",
       "      <td>[o]</td>\n",
       "      <td>greetings</td>\n",
       "    </tr>\n",
       "    <tr>\n",
       "      <th>3</th>\n",
       "      <td>[hey]</td>\n",
       "      <td>[o]</td>\n",
       "      <td>greetings</td>\n",
       "    </tr>\n",
       "    <tr>\n",
       "      <th>4</th>\n",
       "      <td>[hello]</td>\n",
       "      <td>[o]</td>\n",
       "      <td>greetings</td>\n",
       "    </tr>\n",
       "    <tr>\n",
       "      <th>...</th>\n",
       "      <td>...</td>\n",
       "      <td>...</td>\n",
       "      <td>...</td>\n",
       "    </tr>\n",
       "    <tr>\n",
       "      <th>2981</th>\n",
       "      <td>[how, can, i, keep, track, of, money, sent, an...</td>\n",
       "      <td>[o, o, o, o, o, o, o, o, o, o]</td>\n",
       "      <td>chatbot_related</td>\n",
       "    </tr>\n",
       "    <tr>\n",
       "      <th>2982</th>\n",
       "      <td>[is, it, possible, analyze, spendings]</td>\n",
       "      <td>[o, o, o, o, o]</td>\n",
       "      <td>chatbot_related</td>\n",
       "    </tr>\n",
       "    <tr>\n",
       "      <th>2983</th>\n",
       "      <td>[how, can, i, keep, track, of, transactions]</td>\n",
       "      <td>[o, o, o, o, o, o, o]</td>\n",
       "      <td>chatbot_related</td>\n",
       "    </tr>\n",
       "    <tr>\n",
       "      <th>2984</th>\n",
       "      <td>[is, it, possible, to, keep, track, of, money,...</td>\n",
       "      <td>[o, o, o, o, o, o, o, o, o, o, o]</td>\n",
       "      <td>chatbot_related</td>\n",
       "    </tr>\n",
       "    <tr>\n",
       "      <th>2985</th>\n",
       "      <td>[how, can, i, analyze, spendings]</td>\n",
       "      <td>[o, o, o, o, o]</td>\n",
       "      <td>chatbot_related</td>\n",
       "    </tr>\n",
       "  </tbody>\n",
       "</table>\n",
       "<p>2986 rows × 3 columns</p>\n",
       "</div>"
      ],
      "text/plain": [
       "                                              sentences  ...          intents\n",
       "0                                       [good, morning]  ...        greetings\n",
       "1                                       [good, evening]  ...        greetings\n",
       "2                                                  [hi]  ...        greetings\n",
       "3                                                 [hey]  ...        greetings\n",
       "4                                               [hello]  ...        greetings\n",
       "...                                                 ...  ...              ...\n",
       "2981  [how, can, i, keep, track, of, money, sent, an...  ...  chatbot_related\n",
       "2982             [is, it, possible, analyze, spendings]  ...  chatbot_related\n",
       "2983       [how, can, i, keep, track, of, transactions]  ...  chatbot_related\n",
       "2984  [is, it, possible, to, keep, track, of, money,...  ...  chatbot_related\n",
       "2985                  [how, can, i, analyze, spendings]  ...  chatbot_related\n",
       "\n",
       "[2986 rows x 3 columns]"
      ]
     },
     "execution_count": 24,
     "metadata": {
      "tags": []
     },
     "output_type": "execute_result"
    }
   ],
   "source": [
    "\n",
    "temp['labels'] = temp['labels'].apply( lambda x : ','.join(x) )\n",
    "temp['sentences'] = temp['sentences'].apply( lambda x : ','.join(x) )\n",
    "temp.drop_duplicates( inplace = True , ignore_index = True )\n",
    "temp['labels'] = temp['labels'].apply( lambda x : x.split(',') )\n",
    "temp['sentences'] = temp['sentences'].apply( lambda x : x.split(',') )\n",
    "temp\n"
   ]
  },
  {
   "cell_type": "code",
   "execution_count": null,
   "metadata": {
    "id": "MW2gPlhwyo7z"
   },
   "outputs": [],
   "source": [
    "\n",
    "with open('chatbot_data' , 'wb') as f:\n",
    "    pickle.dump((temp) , f)\n"
   ]
  }
 ],
 "metadata": {
  "colab": {
   "collapsed_sections": [],
   "name": "generate_banking_questions.ipynb",
   "provenance": []
  },
  "kernelspec": {
   "display_name": "Python 3",
   "language": "python",
   "name": "python3"
  },
  "language_info": {
   "codemirror_mode": {
    "name": "ipython",
    "version": 3
   },
   "file_extension": ".py",
   "mimetype": "text/x-python",
   "name": "python",
   "nbconvert_exporter": "python",
   "pygments_lexer": "ipython3",
   "version": "3.7.3"
  }
 },
 "nbformat": 4,
 "nbformat_minor": 1
}
